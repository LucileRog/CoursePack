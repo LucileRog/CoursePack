{
 "cells": [
  {
   "cell_type": "markdown",
   "metadata": {
    "slideshow": {
     "slide_type": "slide"
    }
   },
   "source": [
    "# Function Approximation\n",
    "\n",
    "\n",
    "Sciences Po, Spring 2016"
   ]
  },
  {
   "cell_type": "markdown",
   "metadata": {
    "slideshow": {
     "slide_type": "slide"
    }
   },
   "source": [
    "\n",
    "## Outline\n",
    "\n",
    "1. Overview of Approximation Methods\n",
    "\t1. Interpolation\n",
    "\t1. Regression\n",
    "1. Polynomial Interpolation\n",
    "1. Spline Interpolation\n",
    "1. Multidimensional Approximation\n",
    "\n"
   ]
  },
  {
   "cell_type": "markdown",
   "metadata": {
    "slideshow": {
     "slide_type": "slide"
    }
   },
   "source": [
    "\n",
    "## Approximation Methods\n",
    "\n",
    "* Confronted with a non-analytic function $f$ (i.e. something not like $log(x)$), we need a way to numerically represent $f$ in a computer.\n",
    "\t* If your problem is to compute a value function in a dynamic problem, you don't have an *analytic representation* of $V$.\n",
    "\t* If you need to compute an equilibrium distribution for your model, you probably can't tell it's from one parametric family or another.\n",
    "* Approximations use *data* of some kind which informs us about $f$. Most commonly, we know the function values $f(x_i)$ at a corresponding finite set of points $X = \\{x_i\\}_{i=1}^N$.\n",
    "* The task of approximation is to take that data and tell us what the function value is at $f(y),y\\not \\in X$.\n",
    "* To an economist this should sound very familiar: take a dataset, learn it's structure, and make predictions.\n",
    "* The only difference is that we can do much better here, because we have more degree's of freedom (we can choose our $X$ in $Y=\\beta X + \\epsilon$)"
   ]
  },
  {
   "cell_type": "markdown",
   "metadata": {
    "slideshow": {
     "slide_type": "subslide"
    }
   },
   "source": [
    "\n",
    "## Some Taxonomy\n",
    "\n",
    "* Local Approximations: approximate function and it's derivative $f,f'$ at a *single* point $x_0$. Taylor Series:\n",
    "\t$$ f(x) = f(x_0) + (x-x_0)f'(x_0) + \\frac{(x-x_0)^2}{2}f''(x_0) + \\dots + \\frac{(x-x_0)^n}{n!}f^{n}(x_0) $$\n",
    "* Interpolation or *Colocation*: find a function $\\hat{f}$ that is a good fit to $f$, and require that $\\hat{f}$ *passes through* the points. If we think of there being a *residual* $\\epsilon_i = f(x_i) - \\hat{f}(x_i)$ at each grid point $i$, this methods succeeds in setting $\\epsilon_i=0,\\forall i$.\n",
    "* Regression: Minimize some notion of distance (or squared distance) between $\\hat{f}$ and $f$, without the requirement of pass through. "
   ]
  },
  {
   "cell_type": "markdown",
   "metadata": {
    "slideshow": {
     "slide_type": "slide"
    }
   },
   "source": [
    "## Doing Interpolation in Julia\n",
    "\n",
    "* In practice, you will make heavy use of high-quality interpolation packages in julia.\n",
    "* List in the end.\n",
    "* Nevertheless, function approximation is *extremely* problem-specific, so sometimes a certain approach does not work for your problem.\n",
    "* This is why we will go through the mechanics of some common methods.\n",
    "* I would like you to know where to start drilling if you need to go and hack somebody elses code."
   ]
  },
  {
   "cell_type": "markdown",
   "metadata": {
    "slideshow": {
     "slide_type": "slide"
    }
   },
   "source": [
    "\n",
    "## Interpolation Basics\n",
    "* Let $f$ be a smooth function mapping $\\mathbb{R}^d \\mapsto \\mathbb{R}$, and define $\\hat{f}(\\cdot;c)$ to be our parametric approximation function. We generically define this as\n",
    "    $$  \n",
    "        \\hat{f}(x;c) = \\sum_{j=1}^J c_j \\phi_j(x) \n",
    "    $$\n",
    "    where \n",
    "* $\\phi_j : \\mathbb{R}^d \\mapsto \\mathbb{R}$ is called a **basis function**,\n",
    "* $c={c_1,c_2,\\dots,c_J}$ is a coefficient vector\n",
    "* The integer $J$ is the *order* of the interpolation.\n",
    "* Our problem is to choose $(\\phi_i,c)$ in some way."
   ]
  },
  {
   "cell_type": "markdown",
   "metadata": {
    "slideshow": {
     "slide_type": "subslide"
    }
   },
   "source": [
    "* We will construct a *grid* of $M\\geq J$ points ${x_1,\\dots,x_M}$ within the domain $\\mathbb{R}^d$, and we will denote the *residuals* at each grid point by $\\epsilon = {\\epsilon_1,\\dots,\\epsilon_M}$:\t\n",
    "    $$ \n",
    "        \\left[\\begin{array}{c}\n",
    "            \\epsilon_1 \\\\\n",
    "             \\vdots \\\\\n",
    "            \\epsilon_M \\\\ \\end{array} \\right]  = \\left[\\begin{array}{c} f(x_1) \\\\ \\vdots \\\\ f(x_M)  \\end{array} \\right] - \\left[\\begin{array}{ccc} \n",
    "            \\phi_1(x_1) & \\dots & \\phi_J(x_1) \\\\   \n",
    "            \\vdots      & \\ddots & \\vdots \\\\   \n",
    "            \\phi_1(x_M) & \\dots & \\phi_J(x_M)    \n",
    "            \\end{array} \\right]  \\cdot \n",
    "            \\left[\\begin{array}{c} c_1 \\\\ \\vdots \\\\ c_J  \\end{array} \\right]\n",
    "    $$"
   ]
  },
  {
   "cell_type": "markdown",
   "metadata": {
    "slideshow": {
     "slide_type": "subslide"
    }
   },
   "source": [
    "* *Interpolation* or *colocation* occurs when $J=M$, i.e. we have a square matrix of basis functions, and can exactly solve this.\n",
    "* We basically need to solve the system\n",
    "    $$ \n",
    "        \\begin{aligned} \n",
    "        \\sum_{j=1}^n c_j \\phi_j(x_i) &= f(x_i),\\forall i=1,2,\\dots,n \\\\\n",
    "                          \\mathbf{\\Phi c}&= \\mathbf{y}\n",
    "        \\end{aligned}\n",
    "    $$\n",
    "    where the second line uses vector notation, and $\\mathbf{y}$ has all values of $f$.\n",
    "* Solution: $\\mathbf{c}= \\mathbf{\\Phi}^{-1}y$.\n",
    "\n"
   ]
  },
  {
   "cell_type": "markdown",
   "metadata": {
    "slideshow": {
     "slide_type": "slide"
    }
   },
   "source": [
    "\n",
    "## Regression Basics\n",
    "\n",
    "* Clearly, on the previous slide we required that there are as many interpolation nodes as there are basis functions - we had $J$ equations for $M$ unknowns, so there exists a unique solution for $c$.\n",
    "* We needed to *invert* $\\mathbf{\\Phi}$.\n",
    "* If we have more, $M>J$ say, interpolation nodes than basis functions, we cannot do that. Instead we can define a loss function, and minimize it. \n",
    "* In the case of squared loss, of course, this leads to the least squares solution:\n",
    "    $$ \n",
    "    \\begin{aligned} e_i &= f(x_i) - \\sum_{j=1}^n c_j \\phi_j(x_i) \\\\\n",
    "            \\min_c e_i^2 & \\implies \\\\\n",
    "            c            &= (\\Phi'\\Phi)^{-1} \\Phi'y\n",
    "    \\end{aligned}\n",
    "     $$"
   ]
  },
  {
   "cell_type": "markdown",
   "metadata": {
    "slideshow": {
     "slide_type": "slide"
    }
   },
   "source": [
    "\n",
    "## Spectral and Finite Element Methods\n",
    "\n",
    "* **Spectral Methods** are such that the basis functions are non-zero over the entire domain of $f$.\n",
    "\t* Polynomial interpolation\n",
    "\t* Chebychev interpolation\n",
    "* **Finite Element** methods are such that basis functions are non-zero only on a subset of the domain.\n",
    "\t* Splines\n",
    "\t\t* Linear splines, i.e. splines of degree 1, a.k.a. *linear approximation*\n",
    "\t\t* Higher order splines, mainly the *cubic spline*."
   ]
  },
  {
   "cell_type": "markdown",
   "metadata": {
    "slideshow": {
     "slide_type": "subslide"
    }
   },
   "source": [
    "\n",
    "## What makes a **good** Approximation?\n",
    "\n",
    "* Should be arbitrarily accurate as we increase $n$.\n",
    "* $\\Phi$ Should be efficiently (fast) computable. If $\\Phi$ were differentiable, we could easily get e.g. $\\hat{f}'(x) = \\sum_{j=1}^J c_j \\phi_j'(x_i)$\n",
    "* $c$ Should be efficiently (fast) computable.\n",
    "\n"
   ]
  },
  {
   "cell_type": "markdown",
   "metadata": {
    "slideshow": {
     "slide_type": "slide"
    }
   },
   "source": [
    "# Polynomial Interpolation\n",
    "\n",
    "* For any continuous real-valued function $f$ on interval $[a,b]$, and an $\\epsilon>0$, there is a polynomial $p$, such that\n",
    "\t$$ || f - p ||_\\infty \\equiv \\sup_{x\\in[a,b]} |f(x)-p(x)| < \\epsilon $$\n",
    "* However, the choice of $p$ is critical. *Orthogonal Polynomials* have been shown to perform very well.\n",
    "\n",
    "> <span style=\"color:red\">Definition - Orthogonal Polynomials</span>: an orthogonal polynomial sequence is a family of polynomials such that any two different polynomials in the sequence are orthogonal to each other under some inner product. \n",
    "\n",
    "* There are many families that satisfy this. See [@judd-book] table 6.3 for an overview.\n",
    "* We will now look at a widely used family, the **Chebyshev polynomial**."
   ]
  },
  {
   "cell_type": "markdown",
   "metadata": {
    "deletable": true,
    "editable": true,
    "slideshow": {
     "slide_type": "subslide"
    }
   },
   "source": [
    "\n",
    "## Chebyshev Nodes\n",
    "\n",
    "* *Chebyshev Nodes* are defined in the interval $[-1,1]$ as \n",
    "    $$ x_i = \\cos\\left(\\frac{2k-1}{2n} \\pi\\right), k=1,\\dots,n $$\n",
    "* Which maps to general interval $[a,b]$ as\n",
    "\t$$ x_i = \\frac{1}{2} (a+b) + \\frac{1}{2} (b-a) \\cos\\left(\\frac{2k-1}{2n} \\pi\\right) , k=1,\\dots,n $$\n",
    "* Chebyshev nodes are **not** evenly spaced: there are more points towards the boundaries. You might remember that from Gaussian Integration nodes."
   ]
  },
  {
   "cell_type": "code",
   "execution_count": 1,
   "metadata": {
    "collapsed": false,
    "slideshow": {
     "slide_type": "subslide"
    }
   },
   "outputs": [
    {
     "ename": "LoadError",
     "evalue": "UndefVarError: gausschebyshev not defined",
     "output_type": "error",
     "traceback": [
      "UndefVarError: gausschebyshev not defined",
      ""
     ]
    }
   ],
   "source": [
    "using Plots\n",
    "using FastGaussQuadrature\n",
    "nodes = gausschebyshev(11)  # generate 11 Chebyshev Nodes\n",
    "Plots.scatter(nodes,ones(11),grid=false,ylims=(0.9,1.1),m=(:+,:red),label=\"nodes\")"
   ]
  },
  {
   "cell_type": "markdown",
   "metadata": {
    "slideshow": {
     "slide_type": "slide"
    }
   },
   "source": [
    "\n",
    "## What Polynomial to use? What form for $\\Phi$?\n",
    "\n",
    "* In principle the *monomial basis* could be used. It is just the power functions of $x$: $1,x,x^2,x^3,\\dots$\n",
    "* Stacking this up for each evaluation node (Chebyshev, or any other), gives the *Vandermonde Matrix*:\n",
    "        $$ \n",
    "        V = \\left[\\begin{matrix} \n",
    "                1 & x_1 & \\dots & x_1^{n-2} & x_1^{n-1} \\\\ \n",
    "                1 & x_2 & \\dots & x_2^{n-2} & x_2^{n-1} \\\\ \n",
    "                \\vdots & \\vdots & \\ddots &  & \\vdots \\\\ \n",
    "                1 & x_m & \\dots & x_m^{n-2} & x_m^{n-1} \n",
    "                \\end{matrix} \\right]\n",
    "        $$\n",
    "    for the case with $m$ evaluation nodes for $x$, and $n$ basis functions for each $x_i$.\n",
    "* $V$ is often ill-conditioned and thus a bad choice.\n",
    "* A much better polynomial basis is - *surprise, surprise* - the *Chebyshev Polynomial basis*.\n",
    "\n"
   ]
  },
  {
   "cell_type": "markdown",
   "metadata": {
    "slideshow": {
     "slide_type": "subslide"
    }
   },
   "source": [
    "## Evaluating the Chebyshev Polynomial and Basis Function\n",
    "* As before, this Basis is defined in $[-1,1]$, so for general $x\\in[a,b]$ we normalize $x$ to\n",
    "\t$$ z_i = 2\\frac{x_i-a}{b-a} -1 $$\n",
    "* There are several ways to obtain the value of the order $j$ Chebyshev polynomial at $z$, e.g. to get $\\sum_{i=0}^n\n",
    "a_i T_i(z)$.\n",
    "\t1. use definition $T_j(z) = \\cos(\\arccos(z)j)$. Or\n",
    "\t2. Recursively we have that $\\phi_j(x) = T_{j-1}(z)$, and\n",
    "            \n",
    "            $$\n",
    "            \\begin{aligned}\n",
    "\t\t\tT_0(z) =& 1 \\\\\n",
    "\t\t\tT_1(z) =& z \\\\\n",
    "\t\t\tT_{i+1}(z) =& 2zT_i(z) - T_{i-1}(z),i=1,\\dots,n\n",
    "\t\t\t\\end{aligned}\n",
    "            $$"
   ]
  },
  {
   "cell_type": "markdown",
   "metadata": {
    "slideshow": {
     "slide_type": "subslide"
    }
   },
   "source": [
    "### Constructing $\\Phi$ as $T$ evaluated *at* the Chebyshev Nodes\n",
    "* Combining Chebyshev nodes evaluated at the roots $T$ of the Cheby polynomial to construct $\\Phi$ is a particularly good idea.\n",
    "* Doing so, we obtain an interpolation matrix $\\Phi$ with typical element\n",
    "\t$$ \\phi_{ij} = \\cos\\left( \\frac{(n-i+0.5)(j-1)\\pi}{n}\\right)  $$\n",
    "* And we obtain that $\\Phi$ is indeed orthogonal\n",
    "\t$$ \\Phi^T \\Phi = \\text{diag}\\{n,n/2,n/2,\\dots,n/2\\}  $$\n",
    "\n",
    "\n"
   ]
  },
  {
   "cell_type": "markdown",
   "metadata": {
    "slideshow": {
     "slide_type": "slide"
    }
   },
   "source": [
    "## (Chebyshev) Interpolation Proceedure\n",
    "\n",
    "* Let's summarize this proceedure.\n",
    "* Instead of Chebyshev polynomials we could be using any other suitable family of polynomials.\n",
    "* To obtain a Polynomial interpolant $\\hat{f}$, we need:\n",
    "\t1. a function to $f$ interpolate. We need to be able to get the function values somehow.\n",
    "\t1. A set of (Chebyshev) interpolation nodes at which to compute $f$\n",
    "\t1. An interpolation matrix $\\Phi$ that corresponds to the nodes we have chosen.\n",
    "\t1. A resulting coefficient vector $c$\n",
    "* To obtain the value of the interpolation at $x'$ off our grid, we also need a way to evaluate $\\Phi(x')$\t.\n",
    "\t1. Evaluate the Basis function $\\Phi$ at $x'$: get $\\Phi(x')$\n",
    "\t2. obtain new values as $y = \\Phi(x') c$."
   ]
  },
  {
   "cell_type": "markdown",
   "metadata": {
    "slideshow": {
     "slide_type": "slide"
    }
   },
   "source": [
    "## Polynomial Interpolation with `Julia`: `ApproxFun.jl`\n",
    "\n",
    "* [`ApproxFun.jl`](https://github.com/ApproxFun/ApproxFun.jl) is a Julia package based on the Matlab package [`chebfun`](http://www.chebfun.org). It is quite amazing.\n",
    "* More than just *function approximation*. This is a toolbox to actually *work* with functions.\n",
    "* given 2 functions $f,g$, we can do algebra with them, i.e. $h(x) = f(x) + g(x)^2$\n",
    "* We can differentiate and integrate\n",
    "* Solve ODE's and PDE's\n",
    "* represent periodic functions\n",
    "* Head over to the website and look at the readme."
   ]
  },
  {
   "cell_type": "code",
   "execution_count": 2,
   "metadata": {
    "collapsed": false,
    "slideshow": {
     "slide_type": "subslide"
    }
   },
   "outputs": [
    {
     "data": {
      "text/html": [
       "<img src=\"data:image/png;base64,iVBORw0KGgoAAAANSUhEUgAAAlgAAAGQCAYAAAByNR6YAAAABHNCSVQICAgIfAhkiAAAAAlwSFlzAAAPYQAAD2EBqD+naQAAIABJREFUeJzs3Xd8VUX+//HXnHOT0BJCExIInRA6oaggKir2jqKu67rYwLI2liJiYxVQAXtDXSura/e7oKjoioqoSA29CoQuNbSUe878/sjCTyQggeTW9/PxyGMfSS7JZJ0z530/M2fGWGstIiIiIlJmnHA3QERERCTWKGCJiIiIlLFAOH+57/usXbuW5ORkjDHhbIqIiIjIEbHWsmPHDtLT03Gc4tpVWAPW2rVrycjICGcTRERERMpEbm4u9erVA8IcsJKTk/c1KCUlJZxNkSiRl5dHRkaG+owctnD0mWXbLT0nBsn34OPTA7Sorgp9NNE4I6W1t8/szTUQ5oC1d1owJSVFnVhKRX1GSiuUfSY7BX64wnLmhCDnfAufn+3SqZaWvEYbjTNSWr9d7qQrXkSkHNSpZJh0XoBmVQ2nfeLx4wY/3E0SkRAKawVLRCSWVUsyTDzb5ZzPPM6Y4PHF2XB8bb2vlfhSWFjIypUr8Twv3E05Ko7jkJaWtt804KEoYImIlKPkRMOEs13OnuBx1mceX51j6FhLa7IkPqxevZorr7yS3bt3h7spZebiiy9m8ODB+54WPBgFLBGRclYlwfDJWS5nTPA4c0KQb88P0LKaQpbENt/3+cc//kFqaipPPfUUFSpUCHeTjkpRUREzZ87k6aefBmDIkCGHfL0ClohICKQkGj4906X7J0FO/zTI9xcEaJiskCWxa9OmTcyYMYNhw4bRvn37cDenTLRp0waAp556ittuu+2Q04VaDCAiEiLVKxi+ODtABRfOnBDk1z06ClZi17Zt2wD27QsVK7KzswFYt27dIV+ngCUiEkJ1Khm+OCfAtkK44AuPPUGFLIlNvl/85KzrumFuSdlKSEgA/v/fdzAKWCIiIdYkxTD+TJecLZY/f+3hW4UskXBasWIF3bt3p2rVqmU2namAJSISBp1rOfz7VJePV1gGT9UeWSLhlJKSwkMPPcRbb71VZj9TAUtEJEzOb+Aw+niHR3N8Xl2kkCVS3kaNGkWfPn32fb5t2zZq1qwJQLdu3ahcuXKZ/S49RSgiEkZ3tHZYsM1y42SPrFTooo1IJYYtz7NsKyz7n5uaCI1T/vip3Ouvv57MzEweffRRUlNTefXVV7nwwgupXr16mbdJAUtEJIyMMTzT1WXBVo+LJ3pMu8hQr4q2b5DYsynf0uzdIH45LDl0Day/KkDNCoe+dlJTU7n00kt55ZVXuPPOO3n++ed55513yr5BKGCJiIRdomv44HSXjh8FufQrj2/Oc0lyFbIkttSsYFhyWaDcKlh/FK72uu2227jgggto0aIFtWrV2rftQllTwBIRiQDHVDR80MPlxHEe/X70efaE2Hq0XQQObxqvvGVlZdG4cWP69OnDo48+Wm6/R5P9IiIR4thjHJ7u6vLcfJ+xS7ToXaS83HDDDQSDQS699FIAdu/eTb169ejVqxfz58+nXr16DB48+Kh+hypYIiIR5IYsw+T1hr6TPTrWNLTQmYUiZe7rr7/m5ptv3rdpaKVKlVi9enWZ/g5VsEREIogxhue7uTSsAr2+CrKrSJuQipSVtWvXkpWVxYwZM7jjjjvK9XcpYImIRJjKCYb3egT4ZQfc8YMX7uaIxIz09HQWLlzIlClTDnlQc1lQwBIRiUAtqxme6uLy8iLLe8u1Hksk2ihgiYhEqGubGy5rbLjhO48VOzRVKNHFcYojRlFRUZhbUrby8/MBCAQOvYxdi9xFRCKUMYYx3Vzafxjk6kkeX5/r4jpa9C7RIT09ncTERF566SVuuOGGfQvKo5XneaxevZpnnnmGSpUqUb9+/UO+XgFLRCSCpSYZ3uju0n28x6gcn0HttT+WRIcqVarw2GOP0a9fP6ZMmRLu5pSZjh078sILL5CYmHjI1ylgiYhEuJPSHAa2s9w73eeMeg7ZNVXFkuhw/PHH88UXX7B27Vp8P7rXEjqOQ7Vq1ahRo8a+6c9DUcASEYkC/+jo8Plqn79MCjL94oCO0pGoUaVKFTIzM8PdjJDTIncRkSiQ6Bre6B5g8XZ4YHp0VwJE4oEClohIlGhT3fBAB4dHc3x+3KCQJRLJFLBERKLIwHYOHWsaen/jkR/U1g0ikUoBS0QkigQcw2snu/yyA4bOUBVLJFIpYImIRJmW1Qz3ZjuMzPGZsUlVLJFIpIAlIhKFBrV3aF0Nrvs2SJGvkCUSaRSwRESiUIJjeOXkAHO2wOgcTRWKRBoFLBGRKNWhpuHONg5DZ/gsy1MVSySSKGCJiESxBzo41K4IN072sFYhSyRSKGCJiESxygmG57u5fLnG8q+lClgikUIBS0Qkyp2d4XB5Y0O/Hz22FihkiUQCBSwRkRjweBeXfA+G/KwF7yKRQAFLRCQGpFUyPNTJ4YUFPj//qpAlEm4KWCIiMeLmlg7tasBNk3087Y0lElYKWCIiMSLgGJ4/wWX6JsuLC1XFEgknBSwRkRhyfG2HazMN90zz2ZyvKpZIuChgiYjEmBHHugR9uGeaqlgi4aKAJSISY46paBja0WHMAp+ZOgxaJCwUsEREYtAtrRxapMKtU7TDu0g4KGCJiMSgBMfwdFeX7zdY3lmugCUSagpYIiIx6tS6Dhc1MAz8yWN3UCFLJJQUsEREYtio413W74HROVrwLhJKClgiIjGsSYrhjtYOD8/2WbNLVSyRUFHAEhGJcfdkO1RJgMFTvXA3RSRuKGCJiMS4lETDgx1d3lxqmf6rqlgioaCAJSISB65tbmhVDfr/pG0bREJBAUtEJA4EHMPI41wmrbOMX6WAJVLeFLBEROLEWfUMPeoaBvzkUeQrZImUJwUsEZE4YUxxFWvxdnhxgbZtEClPClgiInGkfQ3D1c0MQ2f47ChUFUukvChgiYjEmX90cskrgtFzVMUSKS8KWCIicaZ+FcNtrRxG5fhs2K0qlkh5UMASEYlDd7VzSHDgHzNVxRIpDwpYIiJxqHoFw+D2Di8u8FmyXVUskbJ20IC1ZMkSunbtSmZmJp07d2bevHkHvGbFihW4rkv79u33fSxbtqxcGywiImXj1lYOdSrBPdN0hI5IWTtowOrbty99+vRh8eLFDBo0iN69e5f4uuTkZGbNmrXvo0mTJuXVVhERKUMVA4b7O7i8u9wyc5OqWCJlqcSAtXHjRqZNm8ZVV10FwCWXXEJubi5Lly4NaeNERKR89c40ZFaFIapiiZSpQElfzM3NJS0tjUCg+NvGGOrXr8+qVato2rTpfq/dtWsXHTt2xFrLRRddxJAhQ3Bdt8RfVlBQQEFBwb7P8/Ly9vtfkT+iPiN/ZEcRLN9p2Fxg2F4Em3YUwvF/ZuyiAo5J3kmdipb0ipYaSWBMuFsbGQa3dLnmh0Q+W7aTrrW06F3jjJRWSX2lxIB1uNLS0lizZg3HHHMMW7Zs4fLLL2f06NEMHDiwxNePGDGCoUOHHvD1jIyMo2mGxCH1GQEgoQI06gzNToRmJ0B6K0hN/92LkuDaV7ll1u++vHMT5ObAyhmw+BtYMhkKdoWq5ZHFGBjyE2eP2QkjTw13ayKGxhk5GsaWcKz6xo0badq0KVu2bCEQCGCtJS0tjcmTJx9Qwfqtt99+m7feeotx48aV+P2SKlgZGRnk5uaSkpJSBn+OxDr1GdkdhInrHD7Kdfl8rctuz1A1wdKllk/bVJ+myZamyT41K0DVBIu/O49GTZqwcMly/ArJrNtjWL3bsCjPYc42h583OazPNyQ4lu61fS6s53FhhkdKQrj/0tCauM7h0m+TeO/EAs5Ij+8qlsYZKa29fWb79u37+kyJFaxjjjmGDh06MHbsWHr37s0HH3xAvXr1DghXGzdupFq1aiQkJFBQUMCHH35Idnb2QRuQlJREUlLSAV9PSUlRJ5ZSUZ+JP8vyLE/P83llkc+OIuhQE+7t4HBOhkPr6uAcZL4vLw8IFpJWPZmUlBRa/O771loWb4fPVvt8+IvDrT+7DJgBlzU23NbapUPN+JhH7JlsOXGxx/D5SVzSPIDR/KnGGTkqB50iHDNmDL1792b48OGkpKTw6quvAnDfffeRnp7OjTfeyOTJk7nvvvtwXZdgMMipp57KkCFDQtZ4EYl903+1/GOmx7iVlupJxVsL9M50aFa1bAKAMYbmqdA81eX21rBml+W1xT4vL/R5fUmQU9IM93ZwOCU9trcNNMbwUCeHk8d7fLTC0rORApbI0ShxijBU8vLyqFq16n4lNZFDUZ+JH4u3We6Z5vHeL5asVOjfxuXKpoaKgdLd+I+0z3i+5aMVlodn+0zfZOmeZhh5nEOnWrEdtE7/NMi63ZbZPQO4TnyGLI0zUlol9ZnYHilEJOrsKLTcPsWj5ftBftxoeeUklzmXBLguyyl1uDoarmO4tLHDzxe5/N8ZLpvyLZ0/9vjrpGBMn9/3YEeHeVvh3eWx+zeKhIIClohEjHErfVq+H+TlRT7DOzssvizANc0dAmGspBhjuKCBw8yeAcZ0c/lklaX5e0FeXugTxgmAcnN8bYdzMwz3T/cI+rH394mEigKWiITd1gLL5V8FueALj9bVDHMvCTCwnUuFEFas/kjAMfRp4bDosgAXNzTc8J3HmRM8Vu+MvRDyj04uS/Jg7NLY+9tEQkUBS0TCasoGn/YfBvliteVfp7h8epZLo5TICVa/V6OC4dWTA3x2lsu8rZa2Hwb56JfY2tagQ01Dz4aGodM9ilTFEjkiClgiEha+tTw8y+OkcR71Khtm9QxwZVMnarYHODPDYc4lAU5NN/T80uP2KR6FXuyEkfs7uKzYCW8sjp2/SSSUFLBEJOR2Flkunuhx988+A9s5TDrPpUFydASr36pewfDeaS5Pd3V4foHPqZ94rI+RBfBtaxgubWR4aGZsBUeRUFHAEpGQWrXT0u0/Qb5eaxl3psvwzi4JUbwdgDGGv7Vy+eY8l2V5ls4fB5m5KTYCyf0dXFbuhNeXxMbfIxJKClgiEjI/bfQ59uMg2wphygUBzq0fO0NQl9oO0y4OULuioe9kL9zNKROtqxt6NTYMUxVLpNRiZ3QTkYj26Sqf7uM9mqQYpl4UoHX16K1aHUzdyobvL3AZd4Yb7qaUmfuyXVbthNe0FkukVBSwRKTcvbvM58IvPM6sZ/jqHJdjKsZeuNoryTXUrhQ7f1+r6obLGhuGzVIVS6Q0FLBEpFy9ssjnT197XN7E8F6PyNrbSg7PvdkuuTvhDa3FEjlsClgiUm6enutx3bcefbIc3uge3YvZ41mr6sVPFA6fpX2xRA6XApaIlIsXF/jc9oNP/7YOz53g4ETJ/lZSsnuyXX7ZAf/S7u4ih0UBS0TK3NglPjdO9ri1lcOjx0bP5qFycG1rGC5uWPxEoc4oFPljClgiUqY+/MWn9zce12QanuiicBVL7s12WZoH/16mgCXyRxSwRKTMfLHa54r/elzayPDiia6mBWNMdk3D+fWLd3f3VMUSOSQFLBEpE7M3Wy750uOMuoY3T3FxtaA9Jt3bwWHRdnj/FwUskUNRwBKRo7Z6p+Xcz4M0r2p45zQ9LRjLOtdyOKNucRXLtwpZIgejgCUiRyWvsDhcuQbGnelSOUHhKtbdk+0wdyuMW6mAJXIwClgicsSKfEuvLz1W7oRPzwyQFkM7mMvBnZjmcFIdw7BZPlZVLJESKWCJyBHr94PPf9daPuzh0ioGzxaUg7sn2+HnXy0T1yhgiZREAUtEjshri32eme/zdFeHU+tqKIk3Peoajq1leGimH+6miEQkjYoiUmrTfi3eSPS65oa+LTSMxCNjDPdkO3y33vLtOoUskd/TyCgipbJxj6XnRI921Q3PdHW1kWgcO6++oW11GD5LAUvk9xSwROSwFfmWy77yKPThw9NdKgQUruKZMYbB7V0+X22Z/qvWYon8lgKWiBy2e372+X695b3TXOpWVrgS6NXI0DQFHp7thbspIhFFAUtEDstnuT6P5vgM7+xwYpqGDinmOoZB7Vw++MWycJuqWCJ7aZQUkT+0dpfl6kkeZ2cY/t5Ww4bs7y/NDGmV4BFVsUT20UgpIofk+ZarvvYIOPD6yTrAWQ6U5Br6t3UYu8SycoeqWCKggCUif2DYLJ9J6yz/OsWlVkWFKynZDVkOVRNhVI6eKBQBBSwROYTv1vkMneFzXweHU9I1XMjBVUkw3Nba4eVFPhv3qIolohFTREq0o7B43VWXYwz3ZmuokD/2t5YOroGn5qqKJaJRU0RKdOePHr/mw+vdXVxHU4Pyx6pXKN7Z/9n5PnmFqmJJfFPAEpEDjFvp889Flse7uDRJUbiSw3dna4ddQXhxoapYEt8UsERkP7/usVz/nce5GYbrmytcSenUq2L4S1PDY3N8CjxVsSR+KWCJyD7WWvpO9vB8ePkknTMoR2ZgO5f1u+HNJQpYEr8UsERkn38ttXy0wjLmRJc6lRSu5Mg0TzX0bGR4dLaH5ytkSXxSwBIRADbusdz+g8cVTQyXNNLQIEfnrnYOS/LgwxUKWBKfNIqKCAC3TfEwwFNd3HA3RWJAp1oOp6YbHp3tY61ClsQfBSwR4T8rfd5Zbnmyq3Zrl7IzqJ3DtE2Wr9cqYEn8UcASiXPbCy03TS4+yPnKJgpXUnZOr2toXwMema0tGyT+KGCJxLlBP/nkFcEL3fTUoJQtYwwD27p8scYyc5OqWBJfFLBE4tg363zGLPR55FiH+lUUrqTs9WpsaFgFRuZ44W6KSEgpYInEqQLP0vc7jxNqG25soaFAykfAMfy9rcM7yy2/5KmKJfFDo6pInBqd47M0D57v5uJoalDK0bXNHaonweg5Wosl8UMBSyQO/ZJneXCmz51tHNpUV7iS8lUpYLi1lcMri3w25auKJfFBAUskzlhruXWKR80KcH8HDQESGre0dDAGnp2nKpbEB42uInHm/1ZaPsm1PNnFpUqCqlcSGjUqGK7NdHh6ns/uoKpYEvsUsETiyK4iy21TPM7JMFzcUOFKQqtfG4ethfDaYlWxJPYpYInEkQdn+vyaD0931Z5XEnqNUgy9GhlG5/gEdQi0xDgFLJE4sXib5bE5Pne3d2iconAl4TGgrcvyHfDhLwpYEtsUsETiRL8fPepWgv5tddlL+HSsZTgt3fBojg6BltimkVYkDkzI9fkk1zLqeJeKAVWvJLwGtHWYvskyaZ0ClsQuBSyRGFfoWe74weOUNENPLWyXCHBGPUPb6jAyR4vdJXYpYInEuKfnFe/Y/qQWtkuEMMbQv63LhFzL3C2qYklsUsASiWEbdlv+McPnphbasV0iyxVNDPUqwygdAi0xSgFLJIbd/bOH68DQjrrUJbIkOIY7Wju8tcyyZpeqWBJ7NOqKxKiZmyyvLrY82NGhRgVVryTy3JDlUNGFJ+dqLZbEHgUskRhkraX/Tx7NU6FvC13mEplSEg03tnAYs8Anr1BVLIktGnlFYtCEXMt/11pGHusScFS9ksh1e2uHPR68tFBVLIktClgiMSboWwb8VLwtw7n1Fa4ksqVXNvy5qeGJuT6FnqpYEjsUsERizCuLLPO3wajjtS2DRIf+bVxW74J3lytgSexQwBKJITsKLfdN9/hLU0OHmgpXEh1aVTeck2EYmePp+ByJGQpYIjFkZI7P9kJ4qLMb7qaIlEr/tg45W+DLNQpYEhsUsERixJpdllE5Pne2cahfRdUriS7d0wwdaur4HIkdClgiMeKB6R6VE2BQO13WEn2MMQxo6zJxjWX2ZlWxJPppJBaJAQu3WV5ZbLkn26FqoqpXEp0ubWRoUEXH50hsUMASiQH3TPOoVxlu1KaiEsUCjuHONg7/XmbJ3akqlkQ3jcYiUW7qRp8PfrH8o6NLkqvqlUS365o7VEnQ8TkS/Q4asJYsWULXrl3JzMykc+fOzJs3r8TXjR8/nqysLJo1a0bPnj3Jy8srt8aKyP6stdw11adVNbiqqcKVRL8qCYabWjq8uNBnu47PkSh20IDVt29f+vTpw+LFixk0aBC9e/c+4DU7d+7kuuuu4+OPP2bJkiWkp6fz4IMPlmd7ReQ3vlxj+XqdZXhnF1dH4kiMuLWVQ76Oz5EoV2LA2rhxI9OmTeOqq64C4JJLLiE3N5elS5fu97oJEyaQnZ1NVlYWADfffDNvv/12OTdZRAB8a7nrZ4+utQ3n60gciSFplQxX6fgciXKBkr6Ym5tLWloagUDxt40x1K9fn1WrVtG0adN9r1u1ahUNGjTY93nDhg1Zt24dwWBw37/9rYKCAgoKCvZ9vnc6UdOKcrjUZ/6/D1e5zNiUyIRT89mxQ+/0D0Z9Jjr1bWx4dXEFXp+3m8sbhvapQvUZKa2S+kqJAau8jBgxgqFDhx7w9YyMjFA2Q2JA3PcZx4WhObBxCWf3uSjcrYkKcd9notGt/0ef3Lr0ebBTWH69+owcjRIDVkZGxn6VKGstq1aton79+vu9rn79+kycOHHf5ytWrNiv8vV7gwcPpl+/fvs+z8vLIyMjg9zcXFJSUsri75EYpz5TbOxyl1t+TuTbv2TQ7qHt4W5ORFOfiV7fbHC4YFISHy3awal1QlelVZ+R0trbZ36rxCR0zDHH0KFDB8aOHUvv3r354IMPqFev3n7TgwBnnXUWt9xyCwsXLiQrK4vnnnuOK6644qANSEpKIikp6YCvp6SkqBNLqcRznyn0LCMXBLmkkeHEBsnhbk7UiOc+E63OS7Z0mBvk+aUVuCgzpBMugPqMHJ2D9tgxY8bQu3dvhg8fTkpKCq+++ioA9913H+np6dx4440kJyfz8ssvc9FFFxEMBmndujWvv/56yBovEo9eWeSzcieMP1MHOktsM8bQv43LlV97zN5saVdDD3NI9DDW2rA9opGXl0fVqlXZvn273iXIYYn3PpMftDR9N8jJdQz/OjX07+ijUbz3mWhX5FuavlPc5984JTR9Xn1GSqukPqOd3EWiyJiFPut3w/0dVL2S+JDgGO5o7fC2js+RKKOAJRIldhVZhs/y+WszQ2aqpkokflzf3KFyAjw1T9uRSPRQwBKJEs/M89laAPeqeiVxJjnRcGMLhzELdHyORA8FLJEokFdoeTTH5/rmDg2TVb2S+HObjs+RKKOAJRIFnp7ns7MI7m6vS1biU3plw591fI5EEY3WIhEur9Ayeo5PnyyHelVUvZL41b+Ny5pd8M5yBSyJfApYIhHumXk+u4pgUDtdrhLfWlU3nJ1hGJXjEcYdhkQOi0ZskQi243/VqxtUvRIBYEBbh5wtMHGNApZENgUskQj2zPzitVd3qXolAkD3NEPHmoaROVrsLpFNo7ZIhNpRaBmV43O9qlci+xhj6N/W4cs1lpmbVMWSyKWAJRKhVL0SKdmljQwNq8CoHC/cTRE5KI3cIhFoR6Fl9P+qVxmqXonsJ+AY7mzj8M5yy8odqmJJZFLAEolAz873yVP1SuSgrm3ukJIIT8zVWiyJTBq9RSLMrqLiJweva67qlcjBVEkw3NzC4aWFPlsLVMWSyKOAJRJhXlzos61A+16J/JG/tXIo8uGFBapiSeTRCC4SQfKDlpE5Pn9pZnTmoMgfqFPJcHUzw1NzfQp0fI5EGAUskQjyymKfDXtgcHs33E0RiQr927ps2ANjlyhgSWRRwBKJEIWe5eFZPlc0NjSrquqVyOFonmq4sIFhZI6Hr+NzJIIoYIlEiDeXWHJ3wd2qXomUysB2Dou2w7iVClgSORSwRCJA0LeMmO3Rs6GhVXVVr0RKo0tth261DY/q+ByJIApYIhHg38ssy/LgnmxVr0SOxIB2DlM2WL5fr5AlkUEBSyTMfGsZNsvj3AxDdk1Vr0SOxHn1DVmp6BBoiRgKWCJh9tEKy8JtMCRbl6PIkXKMYUBbl/9baVm4TWuxJPw0oouEkbWW4bM8TkkzdKmty1HkaPy5qSGtkg6BlsigEV0kjCausczYBHereiVy1JJcwx2tHd5cYlm7S1UsCS+N6iJhNHyWT6eahtPStfZKpCz0beFQwdUh0BJ+ClgiYTJlg8836yx3t3cwRgFLpCxUTTTc1NLhhQU+23QItISRApZImIyY5dMiFS5sqHAlUpZub+1Q4OkQaAkvBSyRMMjZbBm/ynJXOxdH1SuRMpVWyfDXTMMTc33yg6piSXgoYImEwcOzPRpUgT81VbgSKQ/927hs3ANv6BBoCRMFLJEQW7rd8s5yy4C2DgmOApZIechMNfRsVHwItOcrZEnoKWCJhNjIHJ+aFeDa5rr8RMrToHYOS/OKN/MVCTWN8CIhtG635bXFPne0dqgYUPVKpDx1ruVwarrh4dk+1ipkSWgpYImE0BNzfJJcuKmFLj2RULirncP0TZav1ipgSWhplBcJke2FlhcW+NzUwiE1SdUrkVDoUdfQsaZhxCxt2SChpYAlEiLPz/fJ9+CONrrsRELFGMNd7Rz+u9YydaNCloSORnqREMgPWp6Y6/PXTENaJVWvRELp4oaGzKrw8GwFLAkdBSyREHhjiWXjHhjQ1g13U0TijusYBrZ1+WiFZcFWrcWS0FDAEilnnm8ZmeNxSSNDs6qqXomEw1XNDHUrw6M5XribInFCAUuknH24wrI0r3hPHhEJjyTX0K+1w9glllU7VcWS8qcRX6QcWWt5eLbHaemGTrV0uYmEU58WDimJMDpHa7Gk/GnEFylHX621zNgEd7XXpSYSblUSDLe1cnhpoc/GPapiSfnSqC9Sjh6d7dOhJpyWrrVXIpHg1lYOrgNPzFUVS8qXApZIOZm5yTJxjWVgWxdjFLBEIkH1CoabWjg8O89nW4GqWFJ+FLBEysnIHI+GVeCSRgpXIpGkXxuHAh+ena8qlpQfBSyRcrBih+Xd5Za/t3UIOApYIpGkTiXDdc0dHp/js6tIVSwpHwpYIuXg8Tk+qYlwTaYuMZFINLCtw/ZCeHGhqlhSPjT6i5SxzfmWlxf5/K2VQ+UEVa9EIlGDZMOfmxpG5fgUeKpiSdlTwBKncp9aAAAgAElEQVQpY8/N97EWbmmpy0skkg1u77JuN7y2WFUsKXu6A4iUoT1By1PzfK5t7lCroqpXIpGsearhssaGEbN8inxVsaRsKWCJlKHXFvtsKSh+SklEIt+QbJeVO+HNJQpYUrZ0FxApI55vGT3Hp1cjQ+MUVa9EokGb6oaLGxqGz/IIqoolZUgBS6SMfLTCsiwP+rfVZSUSTe7JdlmWB/9epoAlZUd3ApEyYK1lZI7PKWk61Fkk2nSoaTivvmHYLA9PVSwpI7oTiJSB79Zbpv5qVb0SiVL3Zjss3AYf/KKAJWVDdwORMjAyx6dVNTg7Q2uvRKLRscc4nFHX8NAsDxWxpCwoYIkcpflbLeNXWfrrUGeRqHZfB4c5W2D8Gt0a5eipF4kcpdE5HumV4MomClci0eyEOg496hoemZsAerMkR0kBS+QorNttGbvUcntrh0RXA7JItLu/g8Pc7Q60vzDcTZEop4AlchSenueT5ELfFrqURGJBtzoO3Wt7cN49WoslR0V3BZEjtKPQ8vx8nz5ZDlUTVb0SiRV3tQpCRlutxZKjot4jcoT+uchnZxHc3lqXkUgs6VLLh/lf8sjcBHyrMpYcGd0ZRI5A0Lc8PtfniiaGjCqqXonEnPEPMXe7w8crFLDkyChgiRyB95ZbVu2E/m3dcDdFRMrD0il0r+3xwAxPVSw5IgpYIqVkrWXUHI/T6xra1VD1SiRWDW4VZM4W7e4uR0YBS6SUJq2zzNikQ51FYt3xtXzOqme4b7rOKJTS0x1CpJRG5vi0rQ6n11X1SiTWPdip+IzCt5YpYEnpKGCJlMLcLZYJuToWRyRedKrlcFEDwwPTPYpUxZJSUMASKYXH5njUrQyXN1a4EokXQzu6LN8Bry1WwJLDV2LAWrJkCV27diUzM5POnTszb968Ev/xihUrcF2X9u3b7/tYtmxZuTZYJFzW7vrfsTitdCyOSDxpW8NweWPDgzM8CjyFLDk8JQasvn370qdPHxYvXsygQYPo3bv3QX9AcnIys2bN2vfRpEmT8mqrSFg9Pc+nggt9dCyOSNx5oKPLmt3w0kI/3E2RKHHAnWLjxo1MmzaNq666CoBLLrmE3Nxcli5dGvLGiUSKHYWWFxboWByReJWVavhLU8OwmT67ilTFkj8W+P0XcnNzSUtLIxAo/pYxhvr167Nq1SqaNm16wA/YtWsXHTt2xFrLRRddxJAhQ3DdkjdfLCgooKCgYN/neXl5+/2vyB8JV595bpHLzqIErm24m7w8Da7RROOMlNbB+ky/TMNby5IYOWMP/VoEw9E0iVAlji/2d6ZNm2YzMzP3+1rnzp3tV1999fuX2vz8fLthwwZrrbWbN2+2PXr0sI888sgBr9vr/vvvt4A+9BFdH45rGbHEcu2r4W+LPvShj/B+XPG45fENlkqp4W+LPiLuY/v27fsyj7HW2jfeeIPHHnsMgD/96U8MGzaMLVu2EAgEsNaSlpbG5MmTS6xg/dbbb7/NW2+9xbhx40r8fkkVrIyMDHJzc0lJSTnkzxaB8PSZ91e6XPdjIt+dkU/bajYkv1PKjsYZKa1D9ZmN+dD+kwrc0DTI0HaqYkmxvX1m+/bt+/pMAODqq6/m6quv3vfCCRMmMHbsWHr37s0HH3xAvXr1SgxXGzdupFq1aiQkJFBQUMCHH35Idnb2QRuQlJREUlLSAV9PSUnRwCelEqo+Y63l2aVBetQ1dGuQXO6/T8qPxhkprZL6TEoK3NnGY1SOoX+HitStrDWZUrISH4caM2YMY8aMITMzk4cffphXX3113/fuu+8+XnjhBQAmT55MdnY27dq1o0OHDtSpU4chQ4aEpuUiIbD3WJwBOhZHRP6nf1uHSgF4cIaeKJSDM9aG75jwvLw8qlatul9JTeRQQt1nzvksyOpdltk9A9q5PUppnJHSOpw+MzrHY9BUnwW9AjSrqrEh3pXUZ/S2XOQg9h2L00bH4ojI/m5u6ZBWCe6Z5oW7KRKhFLBEDmLvsThXNFG4EpH9VQwYhnZ0eXe55edfNVUoB1LAEimBjsURkT/y12aG1tWg/48+YVxtIxFKAUukBDoWR0T+iOsYHj3O5dv1lnGrFLBkf7p7iPzO3mNxbtCxOCLyB86qZzgt3TBoqkfQV8iS/08BS+R3Xl7ks7MI7mity0NEDs0Yw8jjXBZtg5d1ELT8hu4gIr9R5FuemOtzRRNDRhVVr0Tkj2XXNFzV1HD/DJ8dhapiSTEFLJHfeG+5ZdVO6N+25APLRURK8mAnl+2FMDJHVSwppoAl8j/WWkbmeJxR19CuhqpXInL4GiQb7mjtMCrHJ3enqliigCWyz1drLbM2w4B2uixEpPTubu+QnAh3TdXmo6KAJbLPyNk+7WvAaemqXolI6aUkGoZ1cnlrmeWHDZoqjHcKWCJAzmbLF2ssA9rqWBwROXLXZBra14A7fvDxtfloXFPAEgFG5XjUrwK9GitciciRcx3Dk11cpv5q+ddSBax4poAlcS93p+XtZZY7WjskOApYInJ0TkpzuLSR4a6pHjuLFLLilQKWxL0n5/pUToDrm+tyEJGyMfI4l80F8MhsrcWKV7qjSFzbVmB5caHPzS0dknUsjoiUkYbJhv5tHEbm+CzLUxUrHilgSVwbs8CnwIPbWulSEJGyNbi9wzEV4PYp2rYhHumuInGrwCs+FuevmYY6lVS9EpGyVTnB8EQXl09yLeNWaqowlu0JHlilVMCSuDV2iWXDHvh7Gx2LIyLl4+KGhjPrGW6b4pV4E5bo51vLhV8cWKVUwJK45FvLqDkeFzYwNE9V9UpEyocxhqe7uqzdrQXvser1xZafNqqCJQLA+FWWhdtgoI7FEZFy1qyqYUBbh4dna8F7rNmSbxk41aNXowPfqOvuInHp0dk+3WobutTWJSAi5e/ubIfaFeHWKR5WO7zHjLt+9ijyYVjnA5ea6O4icef79T7fb7CqXolIyFQKFE8VTsi1vLdcASsWTNng89JCy/DODrVLeFBKdxiJOyNzfLJS4dz6WnslIqFzQQOHSxoZbvvBY2uBQlY0K/Qsfb/z6FzL0Der5CilgCVxZeE2y39WFh/q7OhQZxEJsae6uOwJwqCp2hsrmo3K8VmwDcZ0c3EPcsSaApbElZGzPepUgj83VbgSkdBLr2x4+FiHlxZavl2npwqj0ZLtlgdn+tzZxiG75sHvJQpYEjfW7LK8udTSr41DkquAJSLh0beFQ9fahj7feRR4miqMJtYWTw2mV4KhHQ8doRSwJG48PsenUgD6HGS+XEQkFBxjeLGby/IdMGymqljR5OVFlq/XWcac6FIpcOg36rrTSFzYWmAZ879DnVN0qLOIhFmr6oa72jmMmOUza7OqWNFg9U5L/x89rs009Kj7x/FJAUviwvPzfYp8uF2HOotIhLgn26FlNfjrpCCFmiqMaNZa+k72qJwAo48/vOPVdLeRmLcnWHyo8zWZJe9VIiISDomu4bWTA8zfCsNmaaowkr25xPJprmVMN5fUpMO7jyhgScx7bbHP5gLo31bdXUQiS3ZNw93ZDsNn+szcpCpWJFq903LbDx5XNTWc3+Dw7yO640hMC/qWkTk+vRoZmqSoeiUikWdIe4dW1aD3N5oqjDTWWq7/zqNyAJ7qenhTg3spYElMe/8Xyy87YFC70l0YIiKhkugaXutePFX4jxmaKowkLyzw+Xy15eWTXKod5tTgXgpYErOstTwy2+OMuuaQm8GJiIRb+xqGBzo6jJjt8502II0Ii7dZ/v6jz40tHM7OKH1cUsCSmPXZasuszXBXe3VzEYl8d7Vz6HqM4apJHtt0VmFYFfmWqyZ51K0Mo447snuI7jwSs0bM8jn+GEP3NFWvRCTyuY5h7Cku2wvhpu89rFXICpcHphc/dPDWqS6VE47sHqKAJTHpu3U+3623DG7vYHSos4hEiQbJhhe6ufx7mWXsUgWscPhmnc+IWT5DOzp0rnXkMUkBS2LSiNk+ravBefUVrkQkulzRxOEvTQ23fO+xLE8hK5Q25Vuu/K/HyWmGQe2OLiIpYEnMmbXZMiHXcld7F0fVKxGJQs+c4FKrAlz+lQ6EDhVrLdd841How79OcXGdo7t/KGBJzBkxy6NRMlzeWOFKRKJTSqLhvR4B5m613PmDnioMhVE5PuNXWV472SW98tHfPxSwJKYs3mZ5b7llYFuHwFG++xARCacONQ1PdnF4foHPv5YqZJWnyet9Bv/sM6idw7n1yyYaKWBJTHk0x6N2Reidqa4tItGvT5bDVU0Nfb7zmL9VU4XlYcNuy+VfeZxQ2/BQp7K7d+guJDFj9U7LG0ss/do4VAioeiUi0c+Y4qcKGyXDJV8G2VmkkFWWinxLr688fAv/Ps0t05kPBSyJGaPm+FQOwI0t1K1FJHZUTjC83yPA6l3w10kevvbHKjP9f/T5YYPlvR4uaZXK9o257kQSEzbusby4wOe21g7JiapeiUhsyUo1jO3u8tEKywPTtR6rLLyyyOepeT6Pd3HoVqfs45AClsSEx+b4uA7c3kpdWkRi04UNHYZ1dnhwps87yxSyjsb3631unOxxQ5bhlpblc98IlMtPFQmhLfmWZ+f73NLSoXoFVa9EJHbd1c5h3lZL7288mqRAp6PYaTxerdhh6fmlR5djDM90dcvttA/9l5Go99Q8H8+Hfm3UnUUkthljePlEl7bVDRd+4bFml9ZjlcbWAss5nwWpEoD3e7gkuuX3plx3JIlqeYWWJ+f69G3hcExFVa9EJPZVCBg+PsPFNXDWhCBbCxSyDkehZ7lkosf6PfDpWQFqlfM9QwFLotqz8312B6F/W3VlEYkfaZUMn58dYO1uuOBzjz1BhaxD8W3xtOr3Gywfn+7SPLX835DrriRRa1eR5bE5Ptc2d6hbBscaiIhEkxbVDJ+c6TJ9U/EBxUFfIask1lru+MHn38ssb53qclJaaKKPApZErRcX+mwr4KhPPBcRiVbH13Z4r4fLuFWWm7/3sNoj6wAPzvR5ep7P890cLmkUuvuF7kwSlfI9GJnj85dmhobJql6JSPw6t77DP09yeWmh5fYffIWs33h0tsf9032GdXLo28IN6e/WNg0Sld5Y7rJhD9zVLrQXjIhIJPprpkO+Z7lxcvH+WE92ccpt+4Fo8dRcj0FTfe7Ndrg7O/T3CgUsiT6BJB5fkMCfmxgyQ7BQUUQkGuyt0ChkwWM5Hn//yWdAW4ehHcMzWaeAJdGn2zWsz4d7wvCOREQkkv02ZFkLT3Z1cOIsZA2b6XHPNJ/B7R2GdQpfyFTAkqiS7wFnD6RXfY/M1MRwN0dEJOL0beFiMNw42WNzgeXVk12SynFDzUjhW8vgqT6P5vg82NHhng7hfROugCVR5c3lLlRNY0DLonA3RUQkYvVp4VA9Ca6a5LFhj8eHp7tUTYzdkFXoWa791uOtpZYnujjc3jr8Mxx6ilCiRn7Q8tiCBJj6b5ql6CkZEZFDubSxwxdnu8zYZDlpXJC1MXqsztYCy7mfe7y33PLvU92ICFeggCVR5J+LfNbnA5+MCHdTRESiwklpDpPPD7ClADp/HGTKBj/cTSpTC7dZjvs4yPRNls/PdrmsSeTEmshpicghFHiWEbN9etX3YMPicDdHRCRqtKpumHpRgEbJhu7jPZ6dFxsbko5f6XPcx0ESHPj5ogDd0yMr0kRWa0QO4p+LfNbthgEtg+FuiohI1EmrZPjvuS43tXD42xSfv07y2B2l5xcWepa//+hx/hce3dMNP1wYoElK5K0v0yJ3iXj5QcvwWT5XNjFaeyUicoQSXcOTXV2OPcZww7ceP24M8np3ly61o6fWsmR78bmLs7dYHjve4Y7WkbvXV/T8vypx68WFPut3w73a90pE5Kj9uanDjJ4BqlcwdBvnMegnj/wIr2Z5vmVUjkfbD4JsLbRMucDlzjZuxIYrUMCSCLerqLh69ddm2rVdRKSsZKUaJp/vMqyTwxNzfTp8FOTLNZG5AH7GJkvX/3gM/MnnxhYOs3sG6FQr8uNL5LdQ4tqz8322FMC9Yd4wTkQk1gQcw13tXaZfHKBakuH0Tz3O/zzIom2RUc1au8vSe1KQTh8F2RW0fH+By+NdXConRMebbQUsiVh5hZZHZvvckOXQMDk6LigRkWjTunpxNevd01zmbrG0fj/ITZM9luWFJ2it220Z8JNHs3eDfJJrefYEh1k9A1G1VgwOErBuu+02GjZsiDGGWbNmHfIHjB8/nqysLJo1a0bPnj3Jy8srl4ZK/Hlirs/uIAxpH10XlYhItDHG0Kuxw4JeAYZ1dvjgF5/Md4P0+jLITxtDM3U4d4vlxu88Gr4d5MUFPne0dlhyWYCbWroEnOh7k13inevSSy9l8uTJNGjQ4JD/eOfOnVx33XV8/PHHLFmyhPT0dB588MFyaajEly35ltE5Pje3dEivHH0XlohINKoQMAxs57LyTwGeO8Fh9mbL8f/n0e6DIkbM8lhexlWtDbstL8z3OPbjIG0+CPLRSp8HOjqsujLAsM4uqUnRO/6XuE3DSSeddFj/eMKECWRnZ5OVlQXAzTffzBlnnMHIkSPLroUSl0bN8fEsDGqn6pWISKhVDBj6tnC5Icvh01WWt5b5PDTT5+6ffbJrwMlpDt3qGLrVNtSudPghaOMey6zNlu/WWybkWqZvsrgGzskwfHS6yzkZhsQYOZj6qPbBWrVq1X5VroYNG7Ju3TqCwSCBwIE/uqCggIKCgn2f751O1LSi/Nav+fDknArclBmkQtEe8n5zrrP6jJSW+oyUlvrM/k6qBid1gtHt4fO1Lp+tdfjoF4cn5ha/Aa6RZKlfydKgik+dCpDgWBIdcAxsKzRsKoBNBYbFeQ4b8ovDU7VEy2l1PPoc53NaHY9aFYp/V/4uyA/XH3oUSuorId1odMSIEQwdOvSAr2dkZISyGRLpLhsFXa9m9JmZjN69rcSXqM9IaanPSGmpz/yB1LrQpAubazdjc82GzKzRAFJqg5sAbqD4Y9c22Pkr7NgEvy6H3NmQO5utm5bzvrW8H+6/oRwFAN544w0ee+wxAG6//Xauueaaw/rH9evXZ+LEifs+X7FiBWlpaSVWrwAGDx5Mv3799n2el5dHRkYGubm5pKSkHPEfIbFj5S5Dp0+TGNgqyIB1Kw/4vvqMlJb6jJSW+kxZqgU0C3cjyt3ePvNbAYCrr76aq6++utQ/8KyzzuKWW25h4cKFZGVl8dxzz3HFFVcc9PVJSUkkJSUd8PWUlBR1YgFg5PQg1ZMsd3WseMi9TtRnpLTUZ6S01GfkaJS4grhv377Uq1eP1atXc+aZZ9K0adN937vvvvt44YUXAEhOTubll1/moosuomnTpqxevZp77703NC2XmJOz2TJ2qeX+Dk7UbCQnIiJSEmOtDduWrXl5eVStWpXt27frXYJw7mdBlmy3zOsVIOEge56oz0hpqc9IaanPSGmV1GdCushd5GC+Xefzaa7lnVPdg4YrERGRaKFNhiTsrLUMmurTsabh0sYKVyIiEv1UwZKw+3iF5ceNlonnuDhGAUtERKKfKlgSVkHfcvc0j9PrGnrUVXcUEZHYoAqWhNUriywLt8HY7m64myIiIlJmVDKQsMkrtNw73eOqpoaOtTQ1KCIisUMBS8Lmkdk+eYUwvLOqVyIiElsUsCQsVu20PDbH5+9tHDKqqHolIiKxRQFLwuLunz2qJsKgduqCIiISe7TIXULu5199/rXU8tKJLsmJql6JiEjsUflAQspaS78ffNpUh2syFa5ERCQ2qYIlIfXRCsvkDZYvznZxdSSOiIjEKFWwJGTyg5YBP3mcnWE4vZ66noiIxC5VsCRkRs/xWbUTPjlL2zKIiEhsUxlBQiJ3p2X4LJ872jhkpWpqUEREYpsCloRE/588UhLg3mx1ORERiX2aIpRyN2mtz7vLLa+f7JKibRlERCQOqJwg5SroW277waPLMYarmilciYhIfFAFS8rV8/N95m6BaRe7OEYBS0RE4kNEVLBW7rDhboKUg1/3WO6b7nNDlkOHmgpXIiISPyIiYA38yQt3E6QcDJzqYQwM6xwR3UxERCRkIuLO99lqy39W+uFuhpShSWt9XltsefRYl5oVVL0SEZH4EhEBq0ddw61TPHYVaaowFhR4lr6TPU6obbi2ucKViIjEn4gIWCOPc9m4B4bOUBUrFjwy22d5HozppoXtIiISnyIiYDVOMdyb7fDYHJ/Zm1XFimaLt1mGzfQZ2M6hVXWFKxERiU8REbAA+rd1yEqFG77z8HyFrGhkreXGyR71KsM92rFdRETiWMTcBRNdw0snukz71fLMfE0VRqM3l1i+Xmd57gSXigFVr0REJH5FTMAC6FLb4aaWDkN+9lmhvbGiysY9lr//5PGnJoYzMyKqW4mIiIRcxN0JR3R2qJYEfb/zsFYhK1r87XsPa+Hx491wN0VERCTsIi5gpSQaxnRz+WKN5bXFCljR4L3lPu/9Ynn2BJfalTQ1KCIiEnEBC+Cc+g5XNzPc+aPHml0KWZHs1z2Wm7/36NnQcFljhSsRERGI0IAF8EQXl4ou9NFUYUT725TiqcHnTnAx2vNKREQEiOCAVS2p+KnCT3M1VRip3l/u8+5yyzOaGhQREdlPxAYsgPMaOPTONNzxg8dKPVUYUfZODV7c0HC5pgZFRET2E9EBC4qnClOToPc3Hr6mCiOCtcVnDXoWntfUoIiIyAEiPmBVTTS8drLLpHWWx+doA9JI8NJCy0crLC+fqKlBERGRkkR8wAI4Jd3h720c7v7ZZ5bOKgyrhdssd/zg0SfL4eJGUdF9REREQi5q7pDDOju0SIUr/xtkd1AhKxwKPMuf/hukfhV47Pio6ToiIiIhFzV3ySTX8NapAX7ZAf1+0FRhOAz52WfeVnj71ACVEzQ1KCIicjBRE7AAWlYzPNnFZcxCn/eWK2SF0sTVPqPn+Izo7JBdU+FKRETkUKIqYAHckFW8Y/j133r8kqepwlBYv9ty9SSP0+sa7mwTdV1GREQk5KLubmmM4cUTXWpWgF5feeRrPVa5KvItl3/lYQy80d3F0ZYMIiIifyjqAhYUb93wXo8Ac7da+v2oqcLyNHiqz5QNlndPc6mjLRlEREQOS1QGLIAONQ1PdXF5foHPm0sUssrD+8uL112NPM6hW52o7SoiIiIhF9V3zRuyDL0zDX2+85i5SVOFZWnBVss133pc3thwe+uo7iYiIiIhF9V3TmMMz5/g0rqa4eKJQTblK2SVhZ1Flku+DJJRGV4+SUfhiIiIlFZUByyACgHDh6e77A5Cry89Cj2FrKPh+ZY/f+2Ruws+PD1AFe13JSIiUmpRH7AAMqoYPujh8v0Gy9+meFgdCn3EBvzkM36V5Z1TXbJSFa5ERESOREwELIAT0xxePNHlpYWWJ+dq0fuReH6+x+NzfZ7s4nBO/ZjpGiIiIiEXCHcDylLvTIf5/9u6oUEVo8OIS+HzXJ9bp/jc2srhb63ccDdHREQkqsVcAnn4WIdejQ1Xfu3xwwZVsg7H3C2Wy77yOKue4XEd4iwiInLUYu5u6hjD6ye7dK5lOP9zj0XbtB7rUFbssJz9WZCGyfD2qS6uo3VXIiIiRyvmAhYUP1n48ekutSvC6Z8GWbVTIask63ZbenwaJMmFCWcFSE5UuBIRESkLMRmwAKpXMEw8J0DAKQ5ZG3YrZP3WpnzL6Z8Gyffgy3MCpFdWuBIRESkrMRuwANIrG748J8COIjhjgjYi3Suv0HLWBI+Ne4rDVcNkhSsREZGyFNMBC6BxSnHIWr8HTvtEIWtHoeW8zz2W5VkmnhPQXlciIiLlIOYDFkDLaoavzy0OWad+EuTXPfEZsrbkW3p86jF7s+XTs1za1VC4EhERKQ9xEbDg/4esjXvgxHHxt/B97S7LSeODLN9h+fq8AF1qx81/ehERkZCLq7tsy2qG784PUODBCf8JsmBrfISs5XmWE8cF2V4I350foENNVa5ERETKU1wFLIBmVQ3fXxAgNbG4kjUlxjcjnb3Z0m1cEMfA5PO15kpERCQU4i5gQfHThd+eH6BVNcMp4z3eXBKbIev95T5d/xOkTsXicNVATwuKiIiERFwGLIBqSYaJ57hc1dRw9SSPwVM9PD82pgx9a7l3mkevrzwuaGCYfEGA2pUUrkREREIlpg57Lq1E1/DySS4tq/kM+Mln2ibL2O5uVIeRvELLXyZ5jFtpGdHZYVA7B2Oi9+8RERGJRnFbwdrLGMPf27pMPMdlzhZL+w+DTFobnVOG36/3yf4wyKS1lnFnutzV3lW4EhERCYO4D1h7nVbXYVbPAC1SDad96jHgJ489weiYMizwLIOnepw03qNOJcOMngHOra//tCIiIuGiu/Bv1KlUvC5reCeHp+f5tP8w8p8ynL3ZcuzHQUbP8Xmok8O357k0SVHVSkREJJwUsH7HdQyD2rvMvDhA9SRDt/94XP9tkPURdlj0r3ssN0326PBREM/C1IsCDG7v4joKVyIiIuGmgHUQLaoZJp/v8lRXh49WWJq9G2T4TI/dYZ42LPAso3I8mr4T5O1lPqOOc5hxcYD2OvZGREQkYsT1U4R/xHUMf2vl8uemDg/O8Ll/us8Tc31ub+1wc0uHakmhCzXbCy0vL/R5cq7P2t1wYwuHBzo61KygYCUiIhJpFLAOQ7Ukw2NdXP7WymFUjs+DM30enu1zbaZD70yH9jUot6f1lm63PDvf5+VFPgUeXNnEMLCdS8tqClYiIiKRSgGrFBqnGJ7r5nJ/B4cn5/n8c5HPU/P8/9fe/YS0ecdxHH8/TzKylZlsFlISTOwglUIV4j8YXQ/qQUoZO/TUwyjFk+Bhl9IyGCIedmoPu/RWpM6b6KF0IMPLpqetijvUP2uLMYl12OlKrNvEmN8OmaGuDp6kIU+snxcE+ZFH8jV8+PIlz89fOPchfB6zuWkEtK8AAAP9SURBVBSxaawF+w2Hrfk/DGPLOcaWc/yyCbU++OKcTd85m9ARPqNLRETkuNCAVYJTJyy+bvcw2Grzfdrw7ZMcg7M5vvw5x0kfdIYtPg5aNATyj49q8oea/tf2ruH53/AkY3j43PDw9/zPlZfw/jvwadTiq2abS1GLE14NViIiIkeFqwOWMfkN45lMxs0y3siFD+BCG3wTN/z03PDjmuGH3wzf/Wr4K5u/xrLghBd8HnjPzq83dig8D/mBKn7S4rNTFp80WXSGLd79d6jK/glH9x0qr/2sHOXMSGUpM1IsZUaKtZ+V/bkGwDKvriosnU4TiUTcenkRERGRskmlUtTV1QEuD1i5XI5nz55RU1Ojr3QRRzKZDJFIhFQqhd/vd7scOQKUGSmWMiPFMsawtbVFOBzGtvMnYLl6i9C27cKkJ1IMv9+vxidFUWakWMqMFCMQCBxY66BRERERkTLTgCUiIiJSZp6BgYEBt4sQKYbH46GjowOvV6eMiDPKjBRLmZE35eomdxEREZG3kW4RioiIiJSZBiwRERGRMtOAJSIiIlJmGrCkaj1+/Jjz58/T0NBAe3s7jx49OvS6RCKBx+MhHo8XHk+fPq1wteI2p3l58OABZ8+e5cyZM1y+fFlfh3KMOcmM+ouUzIhUqc7OTjM0NGSMMWZ0dNS0tbUdet3y8rIJBAIVrEyqkZO8bG1tmWAwaBYWFowxxvT19Znr169XskypIk4yo/4ipdJ/EUpVWl9fJxaLsbm5idfrxRhDKBRienqaWCx24NpEIkE8HufFixcuVStuc5qX0dFR7t69y8TEBADz8/N0d3eTTqfdKl1c4jQz6i9SKt0ilKqUSqUIhUKFM2gsyyIajZJMJg+9fnt7m9bWVlpaWhgcHGRvb6+S5YrLnOYlmUxSX19fWJ8+fZq1tTWy2WxF6xX3FdNj1F+kFBqw5MgLhUKsrq4yMzPD5OQkU1NT3L592+2yROQtoP4ipdKAJVVjeHi4sIl0cnLywCcLxhiSySTRaPS13/P5fASDQQBqa2vp6elhamqqorWLuyKRiKO8RKNRVlZWCutEInHgUww5PpxmRv1FSqUBS6rG1atXmZubY25ujps3b9LS0sLIyAgAY2Nj1NXVvbb/CvJ7KXZ3dwHY2dlhfHyc5ubmitYu7goGg47ycvHiRWZnZ1lcXATgzp07XLlypeL1ivucZkb9RUqlTe5StZaWlrh27RobGxv4/X6GhoZoamoCoL+/n3A4TG9vL+Pj4/T39+PxeMhms3R1dXHr1i18Pp/Lf4FU0v/l5dWsANy/f58bN26QzWZpbGzk3r17BAIBl6sXNzjJjPqLlEoDloiIiEiZ6RahiIiISJn9A0RKJCqYye7UAAAAAElFTkSuQmCC\" />"
      ]
     },
     "execution_count": 2,
     "metadata": {},
     "output_type": "execute_result"
    },
    {
     "name": "stderr",
     "output_type": "stream",
     "text": [
      "sys:1: MatplotlibDeprecationWarning: The set_axis_bgcolor function was deprecated in version 2.0. Use set_facecolor instead.\n"
     ]
    }
   ],
   "source": [
    "# works even with discontinuities!\n",
    "using ApproxFun\n",
    "ff = x->sign(x-0.1)/2 + cos(4*x);  # sign introduces a jump at 0.1\n",
    "x  = Fun(identity)\t# set up a function space\n",
    "space(x)\n",
    "f  = ff(x)\t# define ff on that space\n",
    "plot(f)\t# plot"
   ]
  },
  {
   "cell_type": "code",
   "execution_count": 3,
   "metadata": {
    "collapsed": false,
    "slideshow": {
     "slide_type": "subslide"
    }
   },
   "outputs": [
    {
     "name": "stdout",
     "output_type": "stream",
     "text": [
      "-0.006370611665976966\n",
      "-1.5576748429316383\n"
     ]
    },
    {
     "data": {
      "text/plain": [
       "2.152565021925387"
      ]
     },
     "execution_count": 3,
     "metadata": {},
     "output_type": "execute_result"
    }
   ],
   "source": [
    "# whats the first deriv of that function at at 0.785?\n",
    "println(f'(0.785))\n",
    "# and close to the jump, at 0.100001?\n",
    "println(f'(0.1000001))\n",
    "# integral of f?\n",
    "g1 = cumsum(f)\n",
    "g = g1 + f(-1)\n",
    "integral = norm(f-g)\n",
    "integral"
   ]
  },
  {
   "cell_type": "markdown",
   "metadata": {
    "slideshow": {
     "slide_type": "subslide"
    }
   },
   "source": [
    "\n",
    "* The main purpose of this package is to manipulate analytic functions, i.e. function with an algebraic representation.\n",
    "* There is the possibility to supply a set of data points and fit a polynomial:"
   ]
  },
  {
   "cell_type": "code",
   "execution_count": 4,
   "metadata": {
    "collapsed": false,
    "slideshow": {
     "slide_type": "subslide"
    }
   },
   "outputs": [
    {
     "name": "stdout",
     "output_type": "stream",
     "text": [
      "approx = 3.0041660237524423\n",
      "true = 3.0041660239464334\n"
     ]
    }
   ],
   "source": [
    "S = Chebyshev(1..2);\n",
    "n = 50;\n",
    "p = linspace(1,2,n);   # a non-default grid\n",
    "v = exp.(p);           # values at the non-default grid\n",
    "V = Array(Float64,n,n); # Create a Vandermonde matrix by evaluating the basis at the grid\n",
    "for k = 1:n\n",
    "    V[:,k] = Fun(S,[zeros(k-1);1]).(p)\n",
    "end\n",
    "f = Fun(S,V\\v);\n",
    "println(\"approx = $(f(1.1))\")\n",
    "println(\"true = $(exp(1.1))\")\n",
    "\n",
    "# Check out more examples on the [docs](http://juliaapproximation.github.io/ApproxFun.jl/latest/faq.html)"
   ]
  },
  {
   "cell_type": "markdown",
   "metadata": {
    "slideshow": {
     "slide_type": "slide"
    }
   },
   "source": [
    "## Splines: Piecewise Polynomial Approximation\n",
    "\n",
    "* Splines are a finite element method, i.e. there are regions of the function domain where some basis functions are zero.\n",
    "* As such, they provide a very flexible framework for approximation instead of high-order polynomials.\n",
    "\t* Keep in mind that Polynomials basis functions are non-zero on the entire domain. Remember the Vandermonde matrix.\n",
    "* They bring some element of local approximation back into our framework. What happens at one end of the domain to the function is not important to what happens at the other end.\n",
    "* Looking back at the previous plot of random data: we are searching for **one** polynomial to fit **all** those wiggles. A spline will allow us to design **different** polynomials in different parts of the domain."
   ]
  },
  {
   "cell_type": "markdown",
   "metadata": {
    "slideshow": {
     "slide_type": "subslide"
    }
   },
   "source": [
    "\n",
    "### Splines: Basic Setup\n",
    "\n",
    "* The fundamental building block is the *knot vector*, or the *breakpoints vector* $\\mathbf{z}$ of length $p$. An element of $\\mathbf{z}$ is $z_i$.\n",
    "* $\\mathbf{z}$ is ordered in ascending order.\n",
    "* $\\mathbf{z}$ spans the domain $[a,b]$ of our function, and we have that $a=z_1,b=z_p$\n",
    "* A spline is of *order k* if the polynomial segments are k-th order polynomials.\n",
    "* Literature: [@deboor] is the definitive reference for splines."
   ]
  },
  {
   "cell_type": "markdown",
   "metadata": {
    "slideshow": {
     "slide_type": "subslide"
    }
   },
   "source": [
    "### Splines: Characterization\n",
    "\n",
    "* Given $p$ knots, there are $p-1$ polynomial segments of order $k$, each characterized by $k+1$ coefficients, i.e. a total of $(p-1)(k+1)$ parameters.\n",
    "* However, we also require the spline to be continuous and differentiable of degree $k-1$ at the $p-2$ interior breakpoints.\n",
    "* Imposing that uses up an additional $k(p-2)$ conditions.\n",
    "* We are left with $n = (p-1)(k+1) - k(p-2) = p+k-1$ free parameters.\n",
    "* A Spline of order $k$ and $p$ knots can thus be written as a linear combination of it's $n = p+k-1$ basis functions."
   ]
  },
  {
   "cell_type": "markdown",
   "metadata": {
    "collapsed": true,
    "deletable": true,
    "editable": true,
    "slideshow": {
     "slide_type": "subslide"
    }
   },
   "source": [
    "\n",
    "### Splines: Show some Basis Functions"
   ]
  },
  {
   "cell_type": "code",
   "execution_count": 5,
   "metadata": {
    "collapsed": false,
    "slideshow": {
     "slide_type": "subslide"
    }
   },
   "outputs": [
    {
     "name": "stderr",
     "output_type": "stream",
     "text": [
      "\u001b[1m\u001b[31mWARNING: the no-op `transpose` fallback is deprecated, and no more specific `transpose` method for String exists. Consider `permutedims(x, [2, 1])` or writing a specific `transpose(x::String)` method if appropriate.\u001b[0m\n",
      " in depwarn(::String, ::Symbol) at ./deprecated.jl:64\n",
      " in transpose(::String) at ./deprecated.jl:770\n",
      " in (::Base.##207#208)(::Tuple{Int64,String}) at ./<missing>:0\n",
      " in collect(::Base.Generator{Base.Prod2{Base.OneTo{Int64},Array{String,1}},Base.##207#208}) at ./array.jl:307\n",
      " in transpose(::Array{String,1}) at ./arraymath.jl:416\n",
      " in include_string(::String, ::String) at ./loading.jl:441\n",
      " in execute_request(::ZMQ.Socket, ::IJulia.Msg) at /Users/florian.oswald/.julia/v0.5/IJulia/src/execute_request.jl:157\n",
      " in eventloop(::ZMQ.Socket) at /Users/florian.oswald/.julia/v0.5/IJulia/src/eventloop.jl:8\n",
      " in (::IJulia.##13#19)() at ./task.jl:360\n",
      "while loading In[5], in expression starting on line 7\n"
     ]
    },
    {
     "data": {
      "text/html": [
       "<img src=\"data:image/png;base64,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\" />"
      ]
     },
     "execution_count": 5,
     "metadata": {},
     "output_type": "execute_result"
    }
   ],
   "source": [
    "using ApproXD   \n",
    "# Pkg.clone(\"https://github.com/floswald/ApproXD.jl\")\n",
    "bs = BSpline(7,3,0,1) #7 knots, degree 3 in [0,1]\n",
    "# how many basis functions? (go back 1 slide.)\n",
    "# getNumCoefs(bs)\n",
    "B = full(getBasis(collect(linspace(0,1.0,500)),bs))\n",
    "plot(linspace(0,1.0,500),B,layout=(3,3),grid=false,ylim=(-0.1,1.1),label=transpose([\"Basis num $i\" for i in 1:9]),linewidth=2,linecolor=:black)"
   ]
  },
  {
   "cell_type": "code",
   "execution_count": 6,
   "metadata": {
    "collapsed": false,
    "slideshow": {
     "slide_type": "subslide"
    }
   },
   "outputs": [
    {
     "name": "stdout",
     "output_type": "stream",
     "text": [
      "\n",
      "\t[1, 1]  =  1.0\n",
      "\t[1, 2]  =  0.0\n",
      "\t[2, 2]  =  0.03125\n",
      "\t[1, 3]  =  0.0\n",
      "\t[2, 3]  =  0.46875\n",
      "\t[1, 4]  =  0.0\n",
      "\t[2, 4]  =  0.479167\n",
      "\t[3, 4]  =  0.166667\n",
      "\t[2, 5]  =  0.0208333\n",
      "\t[3, 5]  =  0.666667\n",
      "\t[4, 5]  =  0.0208333\n",
      "\t[3, 6]  =  0.166667\n",
      "\t[4, 6]  =  0.479167\n",
      "\t[3, 7]  =  0.0\n",
      "\t[4, 7]  =  0.46875\n",
      "\t[4, 8]  =  0.03125\n",
      "\t[5, 9]  =  1.0\n"
     ]
    },
    {
     "data": {
      "text/html": [
       "<img src=\"data:image/png;base64,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\" />"
      ]
     },
     "execution_count": 6,
     "metadata": {},
     "output_type": "execute_result"
    }
   ],
   "source": [
    "# Notice that placing each of those panels on top of each other generates a sparse matrix!\n",
    "println(getBasis(collect(linspace(0,1.0,5)),bs))\n",
    "plot(linspace(0,1.0,500),B,grid=false,ylim=(-0.1,1.1),legend=false)"
   ]
  },
  {
   "cell_type": "markdown",
   "metadata": {
    "slideshow": {
     "slide_type": "slide"
    }
   },
   "source": [
    "\n",
    "## B-Splines: Definition\n",
    "\n",
    "* We mostly use Basis Splines, or **B-Splines**.\n",
    "* Here is a recursive definition of a B-Spline (and what is used in `ApproXD`):\n",
    "* Denote the $j$-th basis function of degree $k$ with knot vector $\\mathbf{z}$  at $x$ as $B_j^{k,\\mathbf{z}} (x)$\n",
    "* Again, there are $n = k + p - 1$ $B$'s (where $p$` = length(z)`)\n",
    "* We can define $B_j^{k,\\mathbf{z}} (x)$ recursively like this:\n",
    "\n",
    "\t$$ \n",
    "    B_j^{k,\\mathbf{z}} (x) = \\frac{x-z_{j-k}}{z_j - z_{j-k}} B_{j-1}^{k-1,\\mathbf{z}} (x)  + \\frac{z_{j+1}-x}{z_{j+1} - z_{j+1-k}} B_{j}^{k-1,\\mathbf{z}} (x), j=1,\\dots,n\n",
    "    $$"
   ]
  },
  {
   "cell_type": "markdown",
   "metadata": {
    "slideshow": {
     "slide_type": "subslide"
    }
   },
   "source": [
    "* The recursion starts with\n",
    "\t$$ B_j^{0,\\mathbf{z}} (x) = \\begin{cases}\n",
    "\t\t1 & \\text{if }z_j \\leq x <\tz_{j+1}\\\\\n",
    "\t\t0 & \\text{otherwise.}\n",
    "\t\t\\end{cases}\n",
    "\t\t$$\n",
    "* For this formulation to work, we need to extend the knot vector for $j<1,j>p$:\n",
    "\t$$ z_j = \\begin{cases}\n",
    "\t\ta & \\text{if }j \\leq 1\\\\\n",
    "\t\tb & \\text{if }j \\geq p\n",
    "\t\t\\end{cases} $$\n",
    "* And we need to set the endpoints\n",
    "\t$$ B_0^{k-1,\\mathbf{z}} = B_n^{k-1,\\mathbf{z}} =0 $$\n",
    "* You may see that this gives rise to a triangular computation strategy, as pointed out [here](http://www.cs.mtu.edu/~shene/COURSES/cs3621/NOTES/spline/B-spline/bspline-basis.html).\n",
    "\n"
   ]
  },
  {
   "cell_type": "markdown",
   "metadata": {
    "slideshow": {
     "slide_type": "subslide"
    }
   },
   "source": [
    "## B-Splines: Derivatives and Integrals\n",
    "\n",
    "* This is another very nice thing about B-Splines.\n",
    "* The derivative wrt to it's argument $x$ is\n",
    "\n",
    "\t$$ \\frac{d B_j^{k,\\mathbf{z}} (x)}{dx} = \\frac{k}{z_j - z_{j-k}} B_{j-1}^{k-1,\\mathbf{z}} (x)  + \\frac{k}{z_{j+1} - z_{j+1-k}} B_{j}^{k-1,\\mathbf{z}} (x), j=1,\\dots,n\n",
    "    $$\n",
    "    \n",
    "* Similarly, the Integral is just the sum over the basis functions:\n",
    "\t$$ \\int_a^x B_j^{k,\\mathbf{z}} (y) dy = \\sum_{i=j}^n \\frac{z_i - z_{i-k}}{k} B_{i+1}^{k+1,\\mathbf{z}} (x)  $$\n",
    "\n"
   ]
  },
  {
   "cell_type": "markdown",
   "metadata": {
    "slideshow": {
     "slide_type": "subslide"
    }
   },
   "source": [
    "## Linear B-Spline: A useful special case\n",
    "\n",
    "* This is *connecting the dots with a straight line*\n",
    "* This may incur some approximation error if the underlying function is very curved between the dots.\n",
    "* However, it has some benefits: \n",
    "\t* it is shape-preserving, \n",
    "\t* it is fast,\n",
    "\t* it is easy to build.\n",
    "* For a linear spline with evenly spaced breakpoints, this becomes almost trivial.\n",
    "\t* Let's define $h = \\frac{b-a}{n-1}$ as the distance between breakpoints.\n",
    "\t* Our basis function becomes very simple, giving us a measure of how far $x$ is from the next knot:\n",
    "\t\t$$ \\phi_j (x) = \\begin{cases}\n",
    "\t\t\t1 - \\frac{|x-z_j|}{h} & \\text{if } |x-z_j| \\leq h \\\\\n",
    "\t\t\t0                    & \\text{otherwise}\n",
    "\t\t\t\\end{cases} $$\n",
    "\t* Notice that each interior basis function (i.e. not 0 and not $n$) has witdth $2h$."
   ]
  },
  {
   "cell_type": "code",
   "execution_count": 7,
   "metadata": {
    "collapsed": false
   },
   "outputs": [
    {
     "data": {
      "text/html": [
       "<img src=\"data:image/png;base64,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\" />"
      ]
     },
     "execution_count": 7,
     "metadata": {},
     "output_type": "execute_result"
    }
   ],
   "source": [
    "bs = BSpline(9,1,0,1) #9 knots, degree 1 in [0,1]\n",
    "B = full(getBasis(collect(linspace(0,1.0,500)),bs))\n",
    "plot(linspace(0,1.0,500),B,layout=(3,3),grid=false,ylim=(-0.1,1.1),label=transpose([\"Basis $i\" for i in 1:9]),linewidth=2,linecolor=:black)"
   ]
  },
  {
   "cell_type": "markdown",
   "metadata": {
    "slideshow": {
     "slide_type": "subslide"
    }
   },
   "source": [
    "## Linear B-Spline: Evaluation\n",
    "\n",
    "* In order to evaluate the linear interpolator, we need to know only one thing: Which knot span is active, i.e. what is $j$ s.t. $x\\in [z_j, z_{j+1}]$?\n",
    "* This is a classic problem in computer science. Binary search.\n",
    "* `julia` implements [`searchsortedlast`](http://docs.julialang.org/en/release-0.4/stdlib/sort/#Base.searchsortedlast).\t\n",
    "* Once we know $j$, it's easy to get the interpolated value as\n",
    "\t$$ \\hat{f}(x) = \\frac{x-z_j}{h}  f(z_{j+1}) + \\frac{z_{j+1}-x}{h}  f(z_{j}) $$\n",
    "\n",
    "\n"
   ]
  },
  {
   "cell_type": "markdown",
   "metadata": {
    "slideshow": {
     "slide_type": "subslide"
    }
   },
   "source": [
    "## The Importance of Knot Placement\n",
    "\n",
    "* We just talked about *equally spaced knots*. This is just a special case.\n",
    "* B-Splines give us the flexibility to place the knots where we want.\n",
    "* Contrary to Polynomial interpolations (where we cannot choose the evaluation nodes), this is very helpful in cases where we know that a function is very curved in a particular region.\n",
    "* Canonical Example: Runge's function: $f(x) = (1+25x^2)^{-1}$.\n",
    "* Also: If you know that your function has a kink (i.e. a discontinuous first derivative) at $\\hat{x}$, then you can stack breakpoints on top of each other *at* $\\hat{x}$"
   ]
  },
  {
   "cell_type": "code",
   "execution_count": 8,
   "metadata": {
    "collapsed": false,
    "slideshow": {
     "slide_type": "subslide"
    }
   },
   "outputs": [
    {
     "data": {
      "text/html": [
       "<img src=\"data:image/png;base64,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\" />"
      ]
     },
     "execution_count": 8,
     "metadata": {},
     "output_type": "execute_result"
    }
   ],
   "source": [
    "h(x) = (1+25x^2)^(-1)\n",
    "plot(h)"
   ]
  },
  {
   "cell_type": "markdown",
   "metadata": {
    "slideshow": {
     "slide_type": "slide"
    }
   },
   "source": [
    "## Interpolation with [`Interpolations.jl`](https://github.com/JuliaMath/Interpolations.jl)\n",
    "\n",
    "\n",
    "```julia\n",
    "# Nearest-neighbor interpolation\n",
    "itp = interpolate(a, BSpline(Constant()), OnCell())\n",
    "v = itp[5.4]   # returns a[5]\n",
    "\n",
    "# (Multi)linear interpolation\n",
    "itp = interpolate(A, BSpline(Linear()), OnGrid())\n",
    "v = itp[3.2, 4.1]  # returns 0.9*(0.8*A[3,4]+0.2*A[4,4]) + 0.1*(0.8*A[3,5]+0.2*A[4,5])\n",
    "\n",
    "# Quadratic interpolation with reflecting boundary conditions\n",
    "# Quadratic is the lowest order that has continuous gradient\n",
    "itp = interpolate(A, BSpline(Quadratic(Reflect())), OnCell())\n",
    "\n",
    "# Linear interpolation in the first dimension, and no interpolation (just lookup) in the second\n",
    "itp = interpolate(A, (BSpline(Linear()), NoInterp()), OnGrid())\n",
    "v = itp[3.65, 5]  # returns  0.35*A[3,5] + 0.65*A[4,5]\n",
    "```"
   ]
  },
  {
   "cell_type": "code",
   "execution_count": 9,
   "metadata": {
    "collapsed": false,
    "slideshow": {
     "slide_type": "subslide"
    }
   },
   "outputs": [
    {
     "name": "stderr",
     "output_type": "stream",
     "text": [
      "WARNING: using Interpolations.BSpline in module Main conflicts with an existing identifier.\n"
     ]
    },
    {
     "data": {
      "text/plain": [
       "0.049605460414620814"
      ]
     },
     "execution_count": 9,
     "metadata": {},
     "output_type": "execute_result"
    }
   ],
   "source": [
    "# In-place interpolation\n",
    "# restart kernel!\n",
    "using Interpolations\n",
    "A = rand(10,5)\n",
    "itp = interpolate!(A, Interpolations.BSpline(Quadratic(InPlace())), OnCell())\n",
    "itp[0.2,0.9]"
   ]
  },
  {
   "cell_type": "markdown",
   "metadata": {
    "slideshow": {
     "slide_type": "subslide"
    }
   },
   "source": [
    "* Very often we need a **gridded** interpolation. I.e. we supply the function values on an irregular grid.\n",
    "* For this occasion, the `GriddedInterpolation` type is useful.\n",
    "* For now this only works in 3 modes: \n",
    "    * Gridded(Linear())\n",
    "    * Gridded(Constant())  nearest neighbor\n",
    "    * NoInterp (you must supply index ON grid)"
   ]
  },
  {
   "cell_type": "code",
   "execution_count": 10,
   "metadata": {
    "collapsed": false,
    "slideshow": {
     "slide_type": "subslide"
    }
   },
   "outputs": [
    {
     "data": {
      "text/plain": [
       "0.29662705685929724"
      ]
     },
     "execution_count": 10,
     "metadata": {},
     "output_type": "execute_result"
    }
   ],
   "source": [
    "A = rand(20)\n",
    "A_x = collect(1.0:2.0:40.0)\n",
    "knots = (A_x,)\n",
    "itp = interpolate(knots, A, Gridded(Linear()))\n",
    "itp[2.0] "
   ]
  },
  {
   "cell_type": "code",
   "execution_count": 11,
   "metadata": {
    "collapsed": false,
    "slideshow": {
     "slide_type": "subslide"
    }
   },
   "outputs": [
    {
     "data": {
      "text/plain": [
       "-0.2747446109600431"
      ]
     },
     "execution_count": 11,
     "metadata": {},
     "output_type": "execute_result"
    }
   ],
   "source": [
    "# 2D\n",
    "A = rand(8,20)\n",
    "knots = ([x^2 for x = 1:8], [0.2y for y = 1:20])\n",
    "itp = interpolate(knots, A, Gridded(Linear()))\n",
    "itp[4,4.1]  "
   ]
  },
  {
   "cell_type": "code",
   "execution_count": 12,
   "metadata": {
    "collapsed": false,
    "slideshow": {
     "slide_type": "subslide"
    }
   },
   "outputs": [
    {
     "data": {
      "text/plain": [
       "0.13690401786110562"
      ]
     },
     "execution_count": 12,
     "metadata": {},
     "output_type": "execute_result"
    }
   ],
   "source": [
    "# we can mix modes across dimensions!\n",
    "itp = interpolate(knots, A, (Gridded(Linear()),Gridded(Constant())))\n",
    "itp[4,4.1]"
   ]
  },
  {
   "cell_type": "markdown",
   "metadata": {
    "slideshow": {
     "slide_type": "subslide"
    }
   },
   "source": [
    "* What about vector valued interpolations?\n",
    "* Suppose we have a function $f : \\mathbb{R} \\mapsto \\mathbb{R}^2$\n",
    "* Economics example:\n",
    "\n",
    "$$  \n",
    "f(x) = \\left(\\begin{array}{c} \\text{savings}(x) \\\\ \\text{consumption}(x) \\end{array} \\right)\n",
    "$$"
   ]
  },
  {
   "cell_type": "code",
   "execution_count": 32,
   "metadata": {
    "collapsed": false,
    "slideshow": {
     "slide_type": "subslide"
    }
   },
   "outputs": [
    {
     "name": "stdout",
     "output_type": "stream",
     "text": [
      "  0.124223 seconds (5 allocations: 192 bytes)\n"
     ]
    },
    {
     "name": "stderr",
     "output_type": "stream",
     "text": [
      "WARNING: Method definition foo(Any, Any) in module Main at In[28]:10 overwritten at In[32]:10.\n"
     ]
    },
    {
     "data": {
      "text/plain": [
       "2×200 Array{Float64,2}:\n",
       " 0.693147  0.68625  0.679489  0.67286  …  0.232608  0.231826  0.231049\n",
       " 1.09861   1.08768  1.07696   1.06646     0.368674  0.367435  0.366204"
      ]
     },
     "execution_count": 32,
     "metadata": {},
     "output_type": "execute_result"
    }
   ],
   "source": [
    "using FixedSizeArrays\n",
    "using Interpolations\n",
    "# a = rand(2,200)  # like f(x) above\n",
    "a = Float64[log(1+i)/j for i in 1:2, j in linspace(1,3,200)]\n",
    "b = reinterpret(Vec{2,Float64}, a, (200,))\n",
    "bitp = scale(interpolate(b, Interpolations.BSpline(Quadratic(Reflect())), OnCell()),linspace(1,3,200))\n",
    "\n",
    "# just compute the sum to demonstrate speed\n",
    "function foo(itp, X)\n",
    "    s = zero(eltype(itp))\n",
    "    for x in X\n",
    "        s += itp[x]\n",
    "    end\n",
    "    s\n",
    "end\n",
    "\n",
    "X = rand(10^7)\n",
    "\n",
    "# After warming up with one call to `foo(bitp, X)`:\n",
    "foo(bitp, X);\n",
    "@time foo(bitp, X)\n",
    "a"
   ]
  },
  {
   "cell_type": "code",
   "execution_count": 43,
   "metadata": {
    "collapsed": false,
    "slideshow": {
     "slide_type": "subslide"
    }
   },
   "outputs": [
    {
     "name": "stdout",
     "output_type": "stream",
     "text": [
      "cons=0.46209812681126966\n",
      "save=0.7324082026493517\n"
     ]
    },
    {
     "data": {
      "text/html": [
       "<img src=\"data:image/png;base64,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\" />"
      ]
     },
     "execution_count": 43,
     "metadata": {},
     "output_type": "execute_result"
    }
   ],
   "source": [
    "using Plots\n",
    "v=bitp[1.5]\n",
    "println(\"cons=$(v[1])\")\n",
    "println(\"save=$(v[2])\")\n",
    "plot(linspace(1,3,200),a',labels=[\"cons\",\"save\"]',yticks=convert(Array{Float64},v))\n",
    "vline!([1.5])\n",
    "hline!([v[1],v[2]])\n",
    "\n",
    "\n",
    "# say you have assets of 0.5:\n"
   ]
  },
  {
   "cell_type": "markdown",
   "metadata": {
    "slideshow": {
     "slide_type": "slide"
    }
   },
   "source": [
    "\n",
    "## The CompEcon Toolbox of Miranda and Fackler\n",
    "\n",
    "* another good alternative:\n",
    "* [CompEcon.jl](https://github.com/spencerlyon2/CompEcon.jl)\n",
    "\n"
   ]
  },
  {
   "cell_type": "markdown",
   "metadata": {
    "slideshow": {
     "slide_type": "slide"
    }
   },
   "source": [
    "## Mulitidimensional Approximation\n",
    "\n",
    "* Up to now, most of what we did was in one dimesion.\n",
    "* Economic problems *often* have more dimension than that.\n",
    "\t* The number of state variables in your value functions are the number of dimensions.\n",
    "* We can readily extend what we learned into more dimensions.\n",
    "* However, we will quickly run into feasibility problems: hello *curse of dimensionality*.\n",
    "\n"
   ]
  },
  {
   "cell_type": "markdown",
   "metadata": {
    "slideshow": {
     "slide_type": "subslide"
    }
   },
   "source": [
    "## Tensor Product of univariate Basis Functions: Product Rule\n",
    "\n",
    "* One possibility is to approximate e.g. the 2D function $f(x,y)$ by\n",
    "\t$$ \\hat{f}(x,y) = \\sum_{i=1}^n \\sum_{j=1}^m c_{i,j} \\phi_i^x(x) \\phi_j^y(y)  $$\n",
    "\t* here $\\phi_i^x$ is the basis function in $x$ space, \n",
    "\t* you can see that the coefficient vector $c_{i,j}$ is indexed in two dimensions now.\n",
    "\t* Notice that our initial notation was general enough to encompass this case, as we defined the basis functions as $\\mathbb{R}^d \\mapsto \\mathbb{R}$. So with the product rule, this mapping is just given by $\\phi_i^x(x) \\phi_j^y(y)$.\n",
    "* This formulation requires that we take the product of $\\phi_i^x(x), \\phi_j^y(y)$ at *all* combinations of their indices, as is clear from the summations.\n",
    "* This is equivalent to the tensor product between $\\phi_i^x$ and $\\phi_j^y$."
   ]
  },
  {
   "cell_type": "markdown",
   "metadata": {
    "slideshow": {
     "slide_type": "subslide"
    }
   },
   "source": [
    "## Computing Coefficients from Tensor Product Spaces {#compute-c}\n",
    "\n",
    "* Extending this into $D$ dimensions, where in each dim $i$ we have $n_i$ basis functions, we get\n",
    "\t$$ \\hat{f}(x_1,x_2,\\dots,x_D) = \\sum_{i_1=1}^{n_1} \\sum_{i_2=1}^{n_2} \\dots  \\sum_{i_D=1}^{n_D} c_{i_1,i_2,\\dots,i_D} \\phi_{i_1}(x_1) \\phi_{i_2}(x_2) \\dots \\phi_{i_D}(x_D)  $$ \n",
    "* In Vector notation\n",
    "\t$$ \n",
    "\t\\hat{f}(x_1,x_2,\\dots,x_D) =  \\left[ \\phi_{D}(x_D) \\otimes \\phi_{D-1}(x_{D-1})  \\otimes \\dots  \\otimes  \\phi_{1}(x_1) \\right]  c $$\n",
    "\twhere $c$ is is an $n=\\Pi_{i=1}^D n_i$ column vector\n",
    "* The solution is the interpolation equation as before,\n",
    "\t$$ \\begin{aligned}\\Phi c =& y \\\\\n",
    "\t\t\t\t\t\\Phi   =& \\Phi_D \\otimes \\Phi_{D-1} \\otimes \\dots \\otimes \\Phi_{1} \\end{aligned} $$\n",
    "\n"
   ]
  },
  {
   "cell_type": "markdown",
   "metadata": {
    "slideshow": {
     "slide_type": "subslide"
    }
   },
   "source": [
    "### The Problem with Tensor Product of univariate Basis Functions\n",
    "\n",
    "* What's the problem?\n",
    "* Well, solving $\\Phi c = y$ is hard. \n",
    "* If we have as many evaluation points as basis functions in each dimension, i.e. if each single $\\Phi_i$ is a square matrix, $\\Phi$ is of size (n,n). \n",
    "* Inverting this is *extremely* hard even for moderately sized problems.\n",
    "* Sometimes it's not even possible to allocate $\\Phi$ in memory.\n",
    "* Here it's important to remember the sparsity structure of a spline basis function."
   ]
  },
  {
   "cell_type": "code",
   "execution_count": 15,
   "metadata": {
    "collapsed": false
   },
   "outputs": [
    {
     "data": {
      "text/html": [
       "<img src=\"data:image/png;base64,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\" />"
      ]
     },
     "execution_count": 15,
     "metadata": {},
     "output_type": "execute_result"
    }
   ],
   "source": [
    "using Plots\n",
    "using ApproXD\n",
    "bs = ApproXD.BSpline(7,3,0,1) #7 knots, degree 3 in [0,1]\n",
    "n = 500\n",
    "eval_points = collect(linspace(0,1.0,n))\n",
    "B = full(ApproXD.getBasis(eval_points,bs))\n",
    "ys = [string(\"Basis\",i) for i = 1:8]\n",
    "xs = eval_points\n",
    "heatmap(xs,ys,B')"
   ]
  },
  {
   "cell_type": "markdown",
   "metadata": {},
   "source": [
    "* This is a cubic spline basis. at most $k+1=3$ basis are non-zero for any $x$."
   ]
  },
  {
   "cell_type": "code",
   "execution_count": 16,
   "metadata": {
    "collapsed": false
   },
   "outputs": [
    {
     "data": {
      "text/html": [
       "<img src=\"data:image/png;base64,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\" />"
      ]
     },
     "execution_count": 16,
     "metadata": {},
     "output_type": "execute_result"
    }
   ],
   "source": [
    "heatmap(xs,ys,B'.>0)"
   ]
  },
  {
   "cell_type": "markdown",
   "metadata": {
    "collapsed": true,
    "deletable": true,
    "editable": true,
    "slideshow": {
     "slide_type": "subslide"
    }
   },
   "source": [
    "## Using Sparsity of Splines\n",
    "\n",
    "* It may be better to store the splines in sparse format.\n",
    "* Look at object `B` by typing `B` and `typeof(B)`\n",
    "* There are sparse system solvers available.\n",
    "* Creating and storing the inverse of $\\Phi$ destroys the sparsity structure (inverse of a sparse matrix is not sparse), and may not be a good idea.\n",
    "* Look back at [Computing coefficients form the tensor product](#compute-c)\n",
    "* We only have to sum over the non-zero entries! Every other operation is pure cost.\n",
    "* This is implemented in `ApproXD.jl` for example via\n",
    "\n",
    "```julia\n",
    "    function evalTensor2{T}(mat1::SparseMatrixCSC{T,Int64},\n",
    "                            mat2::SparseMatrixCSC{T,Int64},\n",
    "                            c::Vector{T})\n",
    "```"
   ]
  },
  {
   "cell_type": "markdown",
   "metadata": {
    "slideshow": {
     "slide_type": "slide"
    }
   },
   "source": [
    "\n",
    "## High Dimensional Functions: Introducing the Smolyak Grid\n",
    "\n",
    "* This is a modification of the Tensor product rule. \n",
    "* It elemininates points from the full tensor product according to their *importance* for the quality of approximation.\n",
    "* The user controls this quality parameter, thereby increasing/decreasing the size of the grid.\n",
    "* [@jmmv] is a complete technical reference for this method.\n",
    "* [@maliar-maliar] chapter 4 is very good overview of this topic, and the basis of this part of the lecture."
   ]
  },
  {
   "cell_type": "markdown",
   "metadata": {
    "slideshow": {
     "slide_type": "subslide"
    }
   },
   "source": [
    "\n",
    "## The Smolyak Grid in 2 Dimensions\n",
    "\n",
    "* Approximation level $\\mu \\in \\mathbb{N}$ governs the quality of the approximation.\n",
    "* Start with a unidimensional grid of points $x$:\n",
    "\t$$ x = \\left\\{-1,\\frac{-1}{\\sqrt{2}},0,\\frac{1}{\\sqrt{2}},1\\right\\} $$\n",
    "\twhich are 5 Chebyshev nodes (it's not important that those are Chebyshev nodes, any grid will work).\n",
    "* A 2D tensor product $x\\otimes x$ gives 25 grid points\n",
    "\t$$ x\\otimes x=\\left\\{(-1,-1),(-1,\\frac{-1}{\\sqrt{2}}),\\dots,(1,1)\\right\\} $$\n",
    "* The Smolyak method proceeds differently.\n",
    "* We construct three nested sets:\n",
    "\t$$ \\begin{array}{l}\n",
    "\t\ti=1 : S_1 = \\{0\\} \\\\\n",
    "\t\ti=2 : S_2 = \\{0,-1,1\\} \\\\\n",
    "\t\ti=3 : S_3 = \\left\\{-1,\\frac{-1}{\\sqrt{2}},0,\\frac{1}{\\sqrt{2}},1\\right\\}  \\end{array} $$\n",
    "* Then, we construct all possible 2D tensor products using elements from these nested sets in a table (next slide).\n",
    "* Finally, we select only those elements of the table, that satisfy the Smolyak rule:\n",
    "\t$$ i_1 + i_2 \\leq d + \\mu $$\n",
    "\twhere $i_1,i_2$ are column and row index, respectively, and $d,\\mu$ are the number of dimensions and the quality of approximation."
   ]
  },
  {
   "cell_type": "markdown",
   "metadata": {
    "slideshow": {
     "slide_type": "subslide"
    }
   },
   "source": [
    "# The Smolyak Grid in 2D: Tensor Table\n",
    "\n",
    "![[@maliar-maliar] table 3: All Tensor Products](assets/figs/smolyak-tensortab.png)\n",
    "\n"
   ]
  },
  {
   "cell_type": "markdown",
   "metadata": {
    "slideshow": {
     "slide_type": "subslide"
    }
   },
   "source": [
    "## Selecting Elements\n",
    "\n",
    "* Denote the Smolyak grid for $d$ dimensions at level $\\mu$ by $\\mathcal{H}^{d,\\mu}$.\n",
    "* if $\\mu=0$ we have $i_1+i_2\\leq 2$. Only one point satisfies this, and \n",
    "\t$$ \\mathcal{H}^{2,0} = \\{(0,0)\\} $$\n",
    "* if $\\mu=1$ we have $i_1+i_2\\leq 3$. Three cases satisfy this:\n",
    "\t1. $i_1 = 1, i_2=1 \\rightarrow (0,0)$\n",
    "\t1. $i_1 = 1, i_2=2 \\rightarrow (0,0),(0,-1),(0,1)$\n",
    "\t1. $i_1 = 2, i_2=1 \\rightarrow (0,0),(-1,0),(1,0)$\n",
    "\t* Therefore, the unique elements from the union of all of those is\n",
    "\t\t$$ \\mathcal{H}^{2,1} = \\{(0,0),(-1,0),(1,0),(0,-1),(0,1)\\} $$\n",
    "* if $\\mu=2$ we have $i_1+i_2\\leq 4$. Six cases satisfy this:\n",
    "\t1. $i_1 = 1, i_2=1$\n",
    "\t1. $i_1 = 1, i_2=2$\n",
    "\t1. $i_1 = 2, i_2=1$\n",
    "\t1. $i_1 = 1, i_2=3$\n",
    "\t1. $i_1 = 2, i_2=2$\n",
    "\t1. $i_1 = 3, i_2=1$\n",
    "\t* Therefore, the unique elements from the union of all of those is\n",
    "\t\t$$ \\mathcal{H}^{2,2} = \\left\\{(-1,1),(0,1),(1,1),(-1,0),(0,0),(1,0),(-1,-1),(0,-1),(1,-1),\\left(\\frac{-1}{\\sqrt{2}},0\\right),\\left(\\frac{1}{\\sqrt{2}},0\\right),\\left(0,\\frac{-1}{\\sqrt{2}}\\right),\\left(0,\\frac{1}{\\sqrt{2}}\\right)\\right\\} $$\n",
    "* Note that those elements are on the diagonal from top left to bottom right expanding through all the tensor products on table 3."
   ]
  },
  {
   "cell_type": "markdown",
   "metadata": {
    "slideshow": {
     "slide_type": "subslide"
    }
   },
   "source": [
    "\n",
    "## Size of Smolyak Grids\n",
    "\n",
    "* The Smolyak grid grows much slower (at order $d$ to a power of $\\mu$) than the Tensor grid (exponential growth)\n",
    "\n",
    "![[@maliar-maliar] figure 2: Tensor vs Smolyak in 2D](assets/figs/smolyak-vs-tensor.png)\n",
    "\n",
    "![[@maliar-maliar] figure 4: Tensor vs Smolyak in 2D, number of grid points](assets/figs/smolyak-tensor-points.png)\n",
    "\n"
   ]
  },
  {
   "cell_type": "markdown",
   "metadata": {
    "slideshow": {
     "slide_type": "subslide"
    }
   },
   "source": [
    "## Smolyak Polynomials\n",
    "\n",
    "* Corresponding to the construction of grid points, there is the Smolyak way of constructing polynomials.\n",
    "* This works exactly as before. We start with a one-dimensional set of basis functions (again Chebyshev here, again irrelevant):\n",
    "\t$$ \\left\\{1,x,2x^2-1,4x^3-3x,8x^4-8x^2+1\\right\\} $$\n",
    "* Three nested sets:\n",
    "\t$$ \\begin{array}{l}\n",
    "\t\ti=1 : S_1 = \\{1\\} \\\\\n",
    "\t\ti=2 : S_2 = \\{1,x,2x^2-1\\} \\\\\n",
    "\t\ti=3 : S_3 = \\left\\{1,x,2x^2-1,4x^3-3x,8x^4-8x^2+1\\right\\}  \\end{array} $$\n",
    "* Denoting $\\mathcal{P}^{d,\\mu}$ the Smolyak polynomial, we follow exactly the same steps as for the grids to select elements of the full tensor product table 5:\n",
    "\n",
    "\n",
    "![[@maliar-maliar] figure 5: All Smolyak Polynomials in 2D](assets/figs/smolyak-polynomial.png)\n",
    "\n"
   ]
  },
  {
   "cell_type": "markdown",
   "metadata": {
    "slideshow": {
     "slide_type": "subslide"
    }
   },
   "source": [
    "## Smolyak Interpolation\n",
    "\n",
    "This proceeds as in the previouses cases:\n",
    "\n",
    "1. Evaluate $f$ at all grid points $\\mathcal{H}^{d,\\mu}$.\n",
    "1. Evaluate the set of basis functions given by $\\mathcal{P}^{d,\\mu}$ at all grid points $\\mathcal{H}^{d,\\mu}$.\n",
    "1. Solve for the interpolating coefficients by inverting the Basis function matrix.\n",
    "\n",
    "## Extensions\n",
    "\n",
    "* There is a lot of redundancy in computing the grids the way we did it.\n",
    "* More sophisticated approaches take care not to compute repeated elements."
   ]
  },
  {
   "cell_type": "markdown",
   "metadata": {
    "slideshow": {
     "slide_type": "subslide"
    }
   },
   "source": [
    "## Smolyak Grids in Julia\n",
    "\n",
    "* There are at least 2 julia packages that implement this idea:\n",
    "\t* [https://github.com/EconForge/Smolyak](https://github.com/EconForge/Smolyak)  (can't find the function)\n",
    "\t* [https://github.com/alancrawford/Smolyak](https://github.com/alancrawford/Smolyak) (seems broken)\n",
    "\n",
    "\n"
   ]
  },
  {
   "cell_type": "markdown",
   "metadata": {
    "deletable": true,
    "editable": true,
    "slideshow": {
     "slide_type": "subslide"
    }
   },
   "source": [
    "# Using `alancrawford/Smolyak`\n",
    "\n",
    "From the unit tests of that package:"
   ]
  },
  {
   "cell_type": "code",
   "execution_count": 17,
   "metadata": {
    "attributes": {
     "classes": [
      "julia"
     ],
     "id": ""
    },
    "collapsed": false,
    "deletable": true,
    "editable": true,
    "slideshow": {
     "slide_type": "subslide"
    }
   },
   "outputs": [
    {
     "name": "stdout",
     "output_type": "stream",
     "text": [
      "****** MAX OF 2 DERIVATIVES ******\n"
     ]
    },
    {
     "ename": "LoadError",
     "evalue": "MethodError: no method matching Smolyak.SmolyakBasis(::Array{Array{Float64,1},1}, ::Array{Int64,1}, ::Array{Float64,1}, ::Array{Float64,1}, ::Int64, ::Int64)\u001b[0m\nClosest candidates are:\n  Smolyak.SmolyakBasis(::Array{T,N}, ::Union{Array{Int64,1},Int64}, ::Array{Float64,1}, ::Array{Float64,1}; NumDeriv, NumDerivArgs, D) at /Users/florian.oswald/.julia/v0.5/Smolyak/src/smolbasis.jl:374\n  Smolyak.SmolyakBasis(::Array{T,N}, ::Union{Array{Int64,1},Int64}, ::Array{Float64,1}) at /Users/florian.oswald/.julia/v0.5/Smolyak/src/smolbasis.jl:374\n  Smolyak.SmolyakBasis(::Array{T,N}, ::Union{Array{Int64,1},Int64}) at /Users/florian.oswald/.julia/v0.5/Smolyak/src/smolbasis.jl:374\n  ...\u001b[0m",
     "output_type": "error",
     "traceback": [
      "MethodError: no method matching Smolyak.SmolyakBasis(::Array{Array{Float64,1},1}, ::Array{Int64,1}, ::Array{Float64,1}, ::Array{Float64,1}, ::Int64, ::Int64)\u001b[0m\nClosest candidates are:\n  Smolyak.SmolyakBasis(::Array{T,N}, ::Union{Array{Int64,1},Int64}, ::Array{Float64,1}, ::Array{Float64,1}; NumDeriv, NumDerivArgs, D) at /Users/florian.oswald/.julia/v0.5/Smolyak/src/smolbasis.jl:374\n  Smolyak.SmolyakBasis(::Array{T,N}, ::Union{Array{Int64,1},Int64}, ::Array{Float64,1}) at /Users/florian.oswald/.julia/v0.5/Smolyak/src/smolbasis.jl:374\n  Smolyak.SmolyakBasis(::Array{T,N}, ::Union{Array{Int64,1},Int64}) at /Users/florian.oswald/.julia/v0.5/Smolyak/src/smolbasis.jl:374\n  ...\u001b[0m",
      ""
     ]
    }
   ],
   "source": [
    "# Pkg.clone(\"https://github.com/alancrawford/Smolyak.git\")\n",
    "using Smolyak\n",
    "\n",
    "# here is the true function\n",
    "# in a real world application, evaluating this is the biggest cost\n",
    "# we would like to evaluate only a few times.\n",
    "\n",
    "slopes = rand(4)\t\n",
    "truefun(x) = 1.1 + slopes[1]*x[1] - slopes[2]*x[2]^2 + (slopes[3]*x[3])^3 * slopes[4] * x[4]\n",
    "\n",
    "# choose approx level in each dim\n",
    "mu = [1,2,2,1]\n",
    "D = length(mu)\n",
    "lb = -2*ones(length(mu))\n",
    "ub = 12*ones(length(mu))\n",
    "sg = SmolyakGrid(mu,lb,ub)\n",
    "sb = SmolyakBasis(sg)\n",
    "makeBasis!(sb)\n",
    "sp = SmolyakPoly(sb)\n",
    "\n",
    "for i in 1:sb.NumPts\n",
    "    sp.Value[i] = truefun(sg.xGrid[i]) \t# Assign true fvals to poly\n",
    "end\n",
    "make_pinvBFt!(sp,sb)\n",
    "Smolyak.makeCoef!(sp) \n",
    "\n",
    "# make basis on random point\n",
    "NumObs = 50\n",
    "X = Vector{Float64}[ Float64[lb[d]+( ub[d]- lb[d])*rand() for d in 1:D] for i in 1:NumObs]\n",
    "sbX = SmolyakBasis(X,mu,lb,ub,0,0)\n",
    "makeBasis!(sbX)\n",
    "spX = SmolyakPoly(sbX)\n",
    "copy!(spX.Coef,sp.Coef)   # assign precomputed coefs\n",
    "ynew = makeValue!(spX,sbX) # Interpolated Values\n",
    "valsnew = [truefun(i) for i in X]\n",
    "scatter(ynew,valsnew,ylabel=\"truth\",xlabel=\"approx\")\n"
   ]
  },
  {
   "cell_type": "markdown",
   "metadata": {
    "deletable": true,
    "editable": true
   },
   "source": [
    "-----------------------\n",
    "\n",
    "## Bibliography\n",
    "\n",
    "* [@fackler-miranda] is the main reference for this lecture. \n",
    "* [@judd-book] is the classic reference. A bit more difficult.\n",
    "* [@jesus-computing] gives an overview over computing languages widely used in Economics.\n",
    "\n",
    "-----------------\n",
    "\n",
    "\n",
    "# References"
   ]
  }
 ],
 "metadata": {
  "celltoolbar": "Slideshow",
  "kernelspec": {
   "display_name": "Julia 0.5.0",
   "language": "julia",
   "name": "julia-0.5"
  },
  "language_info": {
   "file_extension": ".jl",
   "mimetype": "application/julia",
   "name": "julia",
   "version": "0.5.0"
  }
 },
 "nbformat": 4,
 "nbformat_minor": 0
}
