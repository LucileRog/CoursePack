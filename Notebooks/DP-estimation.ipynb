{
 "cells": [
  {
   "cell_type": "markdown",
   "metadata": {
    "slideshow": {
     "slide_type": "slide"
    }
   },
   "source": [
    "# Estimation of Dynamic Programming Models\n",
    "\n",
    "* Now that we know how to solve them, how do we estimate DP models?\n",
    "* Examples:\n",
    "    * Rust (1985) <cite data-cite=rust-bus></cite>\n",
    "    * Berry, Levinsohn and Pakes (1995) <cite data-cite=BLP></cite>\n",
    "* There are many different methods. We will introduce just a few. Look at the survey by Aguirregabiria and Mira <cite data-cite=Aguirre></cite> for more details."
   ]
  },
  {
   "cell_type": "markdown",
   "metadata": {
    "slideshow": {
     "slide_type": "slide"
    }
   },
   "source": [
    "## Rust (1985): Harold Zurcher's Bus Engine Replacement Problem\n",
    "\n",
    "* Harold Zurcher is the manager of the Wisconsin bus operations.\n",
    "* He decides on whether a bus needs to undergo an engine replacement or only routine maintainance at a monthly checkup.\n",
    "* Econometrician observes mileage since last replacement and whether replacement takes place.\n",
    "* We don't know the cost of replacement though."
   ]
  }
 ],
 "metadata": {
  "celltoolbar": "Slideshow",
  "kernelspec": {
   "display_name": "Julia 0.5.0",
   "language": "julia",
   "name": "julia-0.5"
  },
  "language_info": {
   "file_extension": ".jl",
   "mimetype": "application/julia",
   "name": "julia",
   "version": "0.5.0"
  }
 },
 "nbformat": 4,
 "nbformat_minor": 2
}
